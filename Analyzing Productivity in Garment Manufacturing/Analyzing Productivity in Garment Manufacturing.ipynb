{
 "cells": [
  {
   "cell_type": "code",
   "execution_count": 1,
   "metadata": {},
   "outputs": [],
   "source": [
    "## Import library\n",
    "import pandas as pd\n",
    "import seaborn as sns\n",
    "import matplotlib.pyplot as plt \n",
    "import numpy as np \n",
    "from scipy import stats\n",
    "from scipy.stats import f_oneway\n",
    "import math\n",
    "from sklearn.preprocessing import PolynomialFeatures\n",
    "from sklearn.linear_model import LinearRegression\n",
    "from sklearn.pipeline import make_pipeline\n",
    "from sklearn.model_selection import train_test_split\n",
    "from sklearn.metrics import mean_squared_error, mean_absolute_error, r2_score\n"
   ]
  },
  {
   "cell_type": "code",
   "execution_count": 2,
   "metadata": {},
   "outputs": [
    {
     "data": {
      "text/html": [
       "<div>\n",
       "<style scoped>\n",
       "    .dataframe tbody tr th:only-of-type {\n",
       "        vertical-align: middle;\n",
       "    }\n",
       "\n",
       "    .dataframe tbody tr th {\n",
       "        vertical-align: top;\n",
       "    }\n",
       "\n",
       "    .dataframe thead th {\n",
       "        text-align: right;\n",
       "    }\n",
       "</style>\n",
       "<table border=\"1\" class=\"dataframe\">\n",
       "  <thead>\n",
       "    <tr style=\"text-align: right;\">\n",
       "      <th></th>\n",
       "      <th>date</th>\n",
       "      <th>quarter</th>\n",
       "      <th>department</th>\n",
       "      <th>day</th>\n",
       "      <th>team</th>\n",
       "      <th>targeted_productivity</th>\n",
       "      <th>smv</th>\n",
       "      <th>wip</th>\n",
       "      <th>over_time</th>\n",
       "      <th>incentive</th>\n",
       "      <th>idle_time</th>\n",
       "      <th>idle_men</th>\n",
       "      <th>no_of_style_change</th>\n",
       "      <th>no_of_workers</th>\n",
       "      <th>actual_productivity</th>\n",
       "    </tr>\n",
       "  </thead>\n",
       "  <tbody>\n",
       "    <tr>\n",
       "      <th>0</th>\n",
       "      <td>1/1/2015</td>\n",
       "      <td>Quarter1</td>\n",
       "      <td>sweing</td>\n",
       "      <td>Thursday</td>\n",
       "      <td>8</td>\n",
       "      <td>0.80</td>\n",
       "      <td>26.16</td>\n",
       "      <td>1108.0</td>\n",
       "      <td>7080</td>\n",
       "      <td>98</td>\n",
       "      <td>0.0</td>\n",
       "      <td>0</td>\n",
       "      <td>0</td>\n",
       "      <td>59.0</td>\n",
       "      <td>0.940725</td>\n",
       "    </tr>\n",
       "    <tr>\n",
       "      <th>1</th>\n",
       "      <td>1/1/2015</td>\n",
       "      <td>Quarter1</td>\n",
       "      <td>finishing</td>\n",
       "      <td>Thursday</td>\n",
       "      <td>1</td>\n",
       "      <td>0.75</td>\n",
       "      <td>3.94</td>\n",
       "      <td>NaN</td>\n",
       "      <td>960</td>\n",
       "      <td>0</td>\n",
       "      <td>0.0</td>\n",
       "      <td>0</td>\n",
       "      <td>0</td>\n",
       "      <td>8.0</td>\n",
       "      <td>0.886500</td>\n",
       "    </tr>\n",
       "    <tr>\n",
       "      <th>2</th>\n",
       "      <td>1/1/2015</td>\n",
       "      <td>Quarter1</td>\n",
       "      <td>sweing</td>\n",
       "      <td>Thursday</td>\n",
       "      <td>11</td>\n",
       "      <td>0.80</td>\n",
       "      <td>11.41</td>\n",
       "      <td>968.0</td>\n",
       "      <td>3660</td>\n",
       "      <td>50</td>\n",
       "      <td>0.0</td>\n",
       "      <td>0</td>\n",
       "      <td>0</td>\n",
       "      <td>30.5</td>\n",
       "      <td>0.800570</td>\n",
       "    </tr>\n",
       "    <tr>\n",
       "      <th>3</th>\n",
       "      <td>1/1/2015</td>\n",
       "      <td>Quarter1</td>\n",
       "      <td>sweing</td>\n",
       "      <td>Thursday</td>\n",
       "      <td>12</td>\n",
       "      <td>0.80</td>\n",
       "      <td>11.41</td>\n",
       "      <td>968.0</td>\n",
       "      <td>3660</td>\n",
       "      <td>50</td>\n",
       "      <td>0.0</td>\n",
       "      <td>0</td>\n",
       "      <td>0</td>\n",
       "      <td>30.5</td>\n",
       "      <td>0.800570</td>\n",
       "    </tr>\n",
       "    <tr>\n",
       "      <th>4</th>\n",
       "      <td>1/1/2015</td>\n",
       "      <td>Quarter1</td>\n",
       "      <td>sweing</td>\n",
       "      <td>Thursday</td>\n",
       "      <td>6</td>\n",
       "      <td>0.80</td>\n",
       "      <td>25.90</td>\n",
       "      <td>1170.0</td>\n",
       "      <td>1920</td>\n",
       "      <td>50</td>\n",
       "      <td>0.0</td>\n",
       "      <td>0</td>\n",
       "      <td>0</td>\n",
       "      <td>56.0</td>\n",
       "      <td>0.800382</td>\n",
       "    </tr>\n",
       "  </tbody>\n",
       "</table>\n",
       "</div>"
      ],
      "text/plain": [
       "       date   quarter  department       day  team  targeted_productivity  \\\n",
       "0  1/1/2015  Quarter1      sweing  Thursday     8                   0.80   \n",
       "1  1/1/2015  Quarter1  finishing   Thursday     1                   0.75   \n",
       "2  1/1/2015  Quarter1      sweing  Thursday    11                   0.80   \n",
       "3  1/1/2015  Quarter1      sweing  Thursday    12                   0.80   \n",
       "4  1/1/2015  Quarter1      sweing  Thursday     6                   0.80   \n",
       "\n",
       "     smv     wip  over_time  incentive  idle_time  idle_men  \\\n",
       "0  26.16  1108.0       7080         98        0.0         0   \n",
       "1   3.94     NaN        960          0        0.0         0   \n",
       "2  11.41   968.0       3660         50        0.0         0   \n",
       "3  11.41   968.0       3660         50        0.0         0   \n",
       "4  25.90  1170.0       1920         50        0.0         0   \n",
       "\n",
       "   no_of_style_change  no_of_workers  actual_productivity  \n",
       "0                   0           59.0             0.940725  \n",
       "1                   0            8.0             0.886500  \n",
       "2                   0           30.5             0.800570  \n",
       "3                   0           30.5             0.800570  \n",
       "4                   0           56.0             0.800382  "
      ]
     },
     "execution_count": 2,
     "metadata": {},
     "output_type": "execute_result"
    }
   ],
   "source": [
    "path=\"C:/Users/alexa/Desktop/Final Assessment  Instructions, Dataset and Report Template-20240503/Productivity in Garment Manufacturing.csv\"\n",
    "df=pd.read_csv(path)\n",
    "df.head()"
   ]
  },
  {
   "cell_type": "markdown",
   "metadata": {},
   "source": [
    "# Explore the data"
   ]
  },
  {
   "cell_type": "code",
   "execution_count": 3,
   "metadata": {},
   "outputs": [
    {
     "data": {
      "text/plain": [
       "15"
      ]
     },
     "execution_count": 3,
     "metadata": {},
     "output_type": "execute_result"
    }
   ],
   "source": [
    "len(df.columns)"
   ]
  },
  {
   "cell_type": "code",
   "execution_count": 4,
   "metadata": {},
   "outputs": [
    {
     "data": {
      "text/html": [
       "<div>\n",
       "<style scoped>\n",
       "    .dataframe tbody tr th:only-of-type {\n",
       "        vertical-align: middle;\n",
       "    }\n",
       "\n",
       "    .dataframe tbody tr th {\n",
       "        vertical-align: top;\n",
       "    }\n",
       "\n",
       "    .dataframe thead th {\n",
       "        text-align: right;\n",
       "    }\n",
       "</style>\n",
       "<table border=\"1\" class=\"dataframe\">\n",
       "  <thead>\n",
       "    <tr style=\"text-align: right;\">\n",
       "      <th></th>\n",
       "      <th>team</th>\n",
       "      <th>targeted_productivity</th>\n",
       "      <th>smv</th>\n",
       "      <th>wip</th>\n",
       "      <th>over_time</th>\n",
       "      <th>incentive</th>\n",
       "      <th>idle_time</th>\n",
       "      <th>idle_men</th>\n",
       "      <th>no_of_style_change</th>\n",
       "      <th>no_of_workers</th>\n",
       "      <th>actual_productivity</th>\n",
       "    </tr>\n",
       "  </thead>\n",
       "  <tbody>\n",
       "    <tr>\n",
       "      <th>count</th>\n",
       "      <td>1197.000000</td>\n",
       "      <td>1197.000000</td>\n",
       "      <td>1197.000000</td>\n",
       "      <td>691.000000</td>\n",
       "      <td>1197.000000</td>\n",
       "      <td>1197.000000</td>\n",
       "      <td>1197.000000</td>\n",
       "      <td>1197.000000</td>\n",
       "      <td>1197.000000</td>\n",
       "      <td>1197.000000</td>\n",
       "      <td>1197.000000</td>\n",
       "    </tr>\n",
       "    <tr>\n",
       "      <th>mean</th>\n",
       "      <td>6.426901</td>\n",
       "      <td>0.729632</td>\n",
       "      <td>15.062172</td>\n",
       "      <td>1190.465991</td>\n",
       "      <td>4567.460317</td>\n",
       "      <td>38.210526</td>\n",
       "      <td>0.730159</td>\n",
       "      <td>0.369256</td>\n",
       "      <td>0.150376</td>\n",
       "      <td>34.609858</td>\n",
       "      <td>0.735091</td>\n",
       "    </tr>\n",
       "    <tr>\n",
       "      <th>std</th>\n",
       "      <td>3.463963</td>\n",
       "      <td>0.097891</td>\n",
       "      <td>10.943219</td>\n",
       "      <td>1837.455001</td>\n",
       "      <td>3348.823563</td>\n",
       "      <td>160.182643</td>\n",
       "      <td>12.709757</td>\n",
       "      <td>3.268987</td>\n",
       "      <td>0.427848</td>\n",
       "      <td>22.197687</td>\n",
       "      <td>0.174488</td>\n",
       "    </tr>\n",
       "    <tr>\n",
       "      <th>min</th>\n",
       "      <td>1.000000</td>\n",
       "      <td>0.070000</td>\n",
       "      <td>2.900000</td>\n",
       "      <td>7.000000</td>\n",
       "      <td>0.000000</td>\n",
       "      <td>0.000000</td>\n",
       "      <td>0.000000</td>\n",
       "      <td>0.000000</td>\n",
       "      <td>0.000000</td>\n",
       "      <td>2.000000</td>\n",
       "      <td>0.233705</td>\n",
       "    </tr>\n",
       "    <tr>\n",
       "      <th>25%</th>\n",
       "      <td>3.000000</td>\n",
       "      <td>0.700000</td>\n",
       "      <td>3.940000</td>\n",
       "      <td>774.500000</td>\n",
       "      <td>1440.000000</td>\n",
       "      <td>0.000000</td>\n",
       "      <td>0.000000</td>\n",
       "      <td>0.000000</td>\n",
       "      <td>0.000000</td>\n",
       "      <td>9.000000</td>\n",
       "      <td>0.650307</td>\n",
       "    </tr>\n",
       "    <tr>\n",
       "      <th>50%</th>\n",
       "      <td>6.000000</td>\n",
       "      <td>0.750000</td>\n",
       "      <td>15.260000</td>\n",
       "      <td>1039.000000</td>\n",
       "      <td>3960.000000</td>\n",
       "      <td>0.000000</td>\n",
       "      <td>0.000000</td>\n",
       "      <td>0.000000</td>\n",
       "      <td>0.000000</td>\n",
       "      <td>34.000000</td>\n",
       "      <td>0.773333</td>\n",
       "    </tr>\n",
       "    <tr>\n",
       "      <th>75%</th>\n",
       "      <td>9.000000</td>\n",
       "      <td>0.800000</td>\n",
       "      <td>24.260000</td>\n",
       "      <td>1252.500000</td>\n",
       "      <td>6960.000000</td>\n",
       "      <td>50.000000</td>\n",
       "      <td>0.000000</td>\n",
       "      <td>0.000000</td>\n",
       "      <td>0.000000</td>\n",
       "      <td>57.000000</td>\n",
       "      <td>0.850253</td>\n",
       "    </tr>\n",
       "    <tr>\n",
       "      <th>max</th>\n",
       "      <td>12.000000</td>\n",
       "      <td>0.800000</td>\n",
       "      <td>54.560000</td>\n",
       "      <td>23122.000000</td>\n",
       "      <td>25920.000000</td>\n",
       "      <td>3600.000000</td>\n",
       "      <td>300.000000</td>\n",
       "      <td>45.000000</td>\n",
       "      <td>2.000000</td>\n",
       "      <td>89.000000</td>\n",
       "      <td>1.120437</td>\n",
       "    </tr>\n",
       "  </tbody>\n",
       "</table>\n",
       "</div>"
      ],
      "text/plain": [
       "              team  targeted_productivity          smv           wip  \\\n",
       "count  1197.000000            1197.000000  1197.000000    691.000000   \n",
       "mean      6.426901               0.729632    15.062172   1190.465991   \n",
       "std       3.463963               0.097891    10.943219   1837.455001   \n",
       "min       1.000000               0.070000     2.900000      7.000000   \n",
       "25%       3.000000               0.700000     3.940000    774.500000   \n",
       "50%       6.000000               0.750000    15.260000   1039.000000   \n",
       "75%       9.000000               0.800000    24.260000   1252.500000   \n",
       "max      12.000000               0.800000    54.560000  23122.000000   \n",
       "\n",
       "          over_time    incentive    idle_time     idle_men  \\\n",
       "count   1197.000000  1197.000000  1197.000000  1197.000000   \n",
       "mean    4567.460317    38.210526     0.730159     0.369256   \n",
       "std     3348.823563   160.182643    12.709757     3.268987   \n",
       "min        0.000000     0.000000     0.000000     0.000000   \n",
       "25%     1440.000000     0.000000     0.000000     0.000000   \n",
       "50%     3960.000000     0.000000     0.000000     0.000000   \n",
       "75%     6960.000000    50.000000     0.000000     0.000000   \n",
       "max    25920.000000  3600.000000   300.000000    45.000000   \n",
       "\n",
       "       no_of_style_change  no_of_workers  actual_productivity  \n",
       "count         1197.000000    1197.000000          1197.000000  \n",
       "mean             0.150376      34.609858             0.735091  \n",
       "std              0.427848      22.197687             0.174488  \n",
       "min              0.000000       2.000000             0.233705  \n",
       "25%              0.000000       9.000000             0.650307  \n",
       "50%              0.000000      34.000000             0.773333  \n",
       "75%              0.000000      57.000000             0.850253  \n",
       "max              2.000000      89.000000             1.120437  "
      ]
     },
     "execution_count": 4,
     "metadata": {},
     "output_type": "execute_result"
    }
   ],
   "source": [
    "df.describe()"
   ]
  },
  {
   "cell_type": "markdown",
   "metadata": {},
   "source": [
    "  ## Check for missing values"
   ]
  },
  {
   "cell_type": "code",
   "execution_count": 5,
   "metadata": {},
   "outputs": [
    {
     "name": "stdout",
     "output_type": "stream",
     "text": [
      "<class 'pandas.core.frame.DataFrame'>\n",
      "RangeIndex: 1197 entries, 0 to 1196\n",
      "Data columns (total 15 columns):\n",
      " #   Column                 Non-Null Count  Dtype  \n",
      "---  ------                 --------------  -----  \n",
      " 0   date                   1197 non-null   object \n",
      " 1   quarter                1197 non-null   object \n",
      " 2   department             1197 non-null   object \n",
      " 3   day                    1197 non-null   object \n",
      " 4   team                   1197 non-null   int64  \n",
      " 5   targeted_productivity  1197 non-null   float64\n",
      " 6   smv                    1197 non-null   float64\n",
      " 7   wip                    691 non-null    float64\n",
      " 8   over_time              1197 non-null   int64  \n",
      " 9   incentive              1197 non-null   int64  \n",
      " 10  idle_time              1197 non-null   float64\n",
      " 11  idle_men               1197 non-null   int64  \n",
      " 12  no_of_style_change     1197 non-null   int64  \n",
      " 13  no_of_workers          1197 non-null   float64\n",
      " 14  actual_productivity    1197 non-null   float64\n",
      "dtypes: float64(6), int64(5), object(4)\n",
      "memory usage: 140.4+ KB\n"
     ]
    }
   ],
   "source": [
    "df.info()"
   ]
  },
  {
   "cell_type": "code",
   "execution_count": 6,
   "metadata": {},
   "outputs": [
    {
     "name": "stderr",
     "output_type": "stream",
     "text": [
      "C:\\Users\\alexa\\AppData\\Local\\Temp\\ipykernel_1948\\3698961737.py:1: FutureWarning: The default value of numeric_only in DataFrame.mean is deprecated. In a future version, it will default to False. In addition, specifying 'numeric_only=None' is deprecated. Select only valid columns or specify the value of numeric_only to silence this warning.\n",
      "  df.mean()\n"
     ]
    },
    {
     "data": {
      "text/plain": [
       "team                        6.426901\n",
       "targeted_productivity       0.729632\n",
       "smv                        15.062172\n",
       "wip                      1190.465991\n",
       "over_time                4567.460317\n",
       "incentive                  38.210526\n",
       "idle_time                   0.730159\n",
       "idle_men                    0.369256\n",
       "no_of_style_change          0.150376\n",
       "no_of_workers              34.609858\n",
       "actual_productivity         0.735091\n",
       "dtype: float64"
      ]
     },
     "execution_count": 6,
     "metadata": {},
     "output_type": "execute_result"
    }
   ],
   "source": [
    "df.mean()"
   ]
  },
  {
   "cell_type": "code",
   "execution_count": 7,
   "metadata": {},
   "outputs": [
    {
     "data": {
      "text/plain": [
       "0"
      ]
     },
     "execution_count": 7,
     "metadata": {},
     "output_type": "execute_result"
    }
   ],
   "source": [
    "df.duplicated().sum()"
   ]
  },
  {
   "cell_type": "code",
   "execution_count": 8,
   "metadata": {},
   "outputs": [
    {
     "data": {
      "text/plain": [
       "date                       0\n",
       "quarter                    0\n",
       "department                 0\n",
       "day                        0\n",
       "team                       0\n",
       "targeted_productivity      0\n",
       "smv                        0\n",
       "wip                      506\n",
       "over_time                  0\n",
       "incentive                  0\n",
       "idle_time                  0\n",
       "idle_men                   0\n",
       "no_of_style_change         0\n",
       "no_of_workers              0\n",
       "actual_productivity        0\n",
       "dtype: int64"
      ]
     },
     "execution_count": 8,
     "metadata": {},
     "output_type": "execute_result"
    }
   ],
   "source": [
    "df.isnull().sum()"
   ]
  },
  {
   "cell_type": "code",
   "execution_count": 9,
   "metadata": {},
   "outputs": [],
   "source": [
    "median=df['wip'].median()\n",
    "df['wip'].fillna(median,inplace=True)"
   ]
  },
  {
   "cell_type": "code",
   "execution_count": 10,
   "metadata": {},
   "outputs": [
    {
     "data": {
      "text/plain": [
       "date                     0\n",
       "quarter                  0\n",
       "department               0\n",
       "day                      0\n",
       "team                     0\n",
       "targeted_productivity    0\n",
       "smv                      0\n",
       "wip                      0\n",
       "over_time                0\n",
       "incentive                0\n",
       "idle_time                0\n",
       "idle_men                 0\n",
       "no_of_style_change       0\n",
       "no_of_workers            0\n",
       "actual_productivity      0\n",
       "dtype: int64"
      ]
     },
     "execution_count": 10,
     "metadata": {},
     "output_type": "execute_result"
    }
   ],
   "source": [
    "df.isnull().sum()"
   ]
  },
  {
   "cell_type": "code",
   "execution_count": 11,
   "metadata": {},
   "outputs": [
    {
     "name": "stdout",
     "output_type": "stream",
     "text": [
      "<class 'pandas.core.frame.DataFrame'>\n",
      "RangeIndex: 1197 entries, 0 to 1196\n",
      "Data columns (total 15 columns):\n",
      " #   Column                 Non-Null Count  Dtype  \n",
      "---  ------                 --------------  -----  \n",
      " 0   date                   1197 non-null   object \n",
      " 1   quarter                1197 non-null   object \n",
      " 2   department             1197 non-null   object \n",
      " 3   day                    1197 non-null   object \n",
      " 4   team                   1197 non-null   int64  \n",
      " 5   targeted_productivity  1197 non-null   float64\n",
      " 6   smv                    1197 non-null   float64\n",
      " 7   wip                    1197 non-null   float64\n",
      " 8   over_time              1197 non-null   int64  \n",
      " 9   incentive              1197 non-null   int64  \n",
      " 10  idle_time              1197 non-null   float64\n",
      " 11  idle_men               1197 non-null   int64  \n",
      " 12  no_of_style_change     1197 non-null   int64  \n",
      " 13  no_of_workers          1197 non-null   float64\n",
      " 14  actual_productivity    1197 non-null   float64\n",
      "dtypes: float64(6), int64(5), object(4)\n",
      "memory usage: 140.4+ KB\n"
     ]
    }
   ],
   "source": [
    "df.info()"
   ]
  },
  {
   "cell_type": "code",
   "execution_count": 12,
   "metadata": {},
   "outputs": [],
   "source": [
    "#the categorical and nomirical \n",
    "cat_cols=df.select_dtypes(include='object')\n",
    "num_cols=df.select_dtypes(exclude='object')"
   ]
  },
  {
   "cell_type": "code",
   "execution_count": 13,
   "metadata": {},
   "outputs": [
    {
     "name": "stdout",
     "output_type": "stream",
     "text": [
      "date\n",
      "['1/1/2015' '1/3/2015' '1/4/2015' '1/5/2015' '1/6/2015' '1/7/2015'\n",
      " '1/8/2015' '1/10/2015' '1/11/2015' '1/12/2015' '1/13/2015' '1/14/2015'\n",
      " '1/15/2015' '1/17/2015' '1/18/2015' '1/19/2015' '1/20/2015' '1/21/2015'\n",
      " '1/22/2015' '1/24/2015' '1/25/2015' '1/26/2015' '1/27/2015' '1/28/2015'\n",
      " '1/29/2015' '1/31/2015' '2/1/2015' '2/2/2015' '2/3/2015' '2/4/2015'\n",
      " '2/5/2015' '2/7/2015' '2/8/2015' '2/9/2015' '2/10/2015' '2/11/2015'\n",
      " '2/12/2015' '2/14/2015' '2/15/2015' '2/16/2015' '2/17/2015' '2/18/2015'\n",
      " '2/19/2015' '2/22/2015' '2/23/2015' '2/24/2015' '2/25/2015' '2/26/2015'\n",
      " '2/28/2015' '3/1/2015' '3/2/2015' '3/3/2015' '3/4/2015' '3/5/2015'\n",
      " '3/7/2015' '3/8/2015' '3/9/2015' '3/10/2015' '3/11/2015']\n",
      "\n",
      "quarter\n",
      "['Quarter1' 'Quarter2' 'Quarter3' 'Quarter4' 'Quarter5']\n",
      "\n",
      "department\n",
      "['sweing' 'finishing ' 'finishing']\n",
      "\n",
      "day\n",
      "['Thursday' 'Saturday' 'Sunday' 'Monday' 'Tuesday' 'Wednesday']\n",
      "\n"
     ]
    }
   ],
   "source": [
    "for cat in cat_cols.columns:\n",
    "    print (f\"{cat}\")\n",
    "    print (cat_cols[cat].unique())\n",
    "    print()"
   ]
  },
  {
   "cell_type": "markdown",
   "metadata": {},
   "source": [
    "- It is obvious from the above that in one case, 'finishing' is written with a white space after the word. So, the word appears in two ways: 'finishing ' and 'finishing'."
   ]
  },
  {
   "cell_type": "code",
   "execution_count": 14,
   "metadata": {},
   "outputs": [
    {
     "data": {
      "text/plain": [
       "sweing        691\n",
       "finishing     257\n",
       "finishing     249\n",
       "Name: department, dtype: int64"
      ]
     },
     "execution_count": 14,
     "metadata": {},
     "output_type": "execute_result"
    }
   ],
   "source": [
    "df['department'].value_counts()"
   ]
  },
  {
   "cell_type": "code",
   "execution_count": 15,
   "metadata": {},
   "outputs": [],
   "source": [
    "df['department'] = df['department'].replace(['sweing'],['sewing'])\n",
    "df['department'] = df['department'].replace(['finishing '],['finishing'])"
   ]
  },
  {
   "cell_type": "code",
   "execution_count": 16,
   "metadata": {},
   "outputs": [
    {
     "data": {
      "text/plain": [
       "['sewing', 'finishing']"
      ]
     },
     "execution_count": 16,
     "metadata": {},
     "output_type": "execute_result"
    }
   ],
   "source": [
    "df['department'].value_counts().index.to_list()"
   ]
  },
  {
   "cell_type": "code",
   "execution_count": 17,
   "metadata": {},
   "outputs": [
    {
     "data": {
      "text/plain": [
       "sewing       691\n",
       "finishing    506\n",
       "Name: department, dtype: int64"
      ]
     },
     "execution_count": 17,
     "metadata": {},
     "output_type": "execute_result"
    }
   ],
   "source": [
    "df['department'].value_counts()"
   ]
  },
  {
   "cell_type": "code",
   "execution_count": 18,
   "metadata": {},
   "outputs": [
    {
     "data": {
      "text/plain": [
       "0.80    540\n",
       "0.70    242\n",
       "0.75    216\n",
       "0.65     63\n",
       "0.60     57\n",
       "0.50     49\n",
       "0.35     27\n",
       "0.40      2\n",
       "0.07      1\n",
       "Name: targeted_productivity, dtype: int64"
      ]
     },
     "execution_count": 18,
     "metadata": {},
     "output_type": "execute_result"
    }
   ],
   "source": [
    "df['targeted_productivity'].value_counts()\n"
   ]
  },
  {
   "cell_type": "code",
   "execution_count": 19,
   "metadata": {},
   "outputs": [
    {
     "data": {
      "text/plain": [
       "Quarter1    360\n",
       "Quarter2    335\n",
       "Quarter4    248\n",
       "Quarter3    210\n",
       "Quarter5     44\n",
       "Name: quarter, dtype: int64"
      ]
     },
     "execution_count": 19,
     "metadata": {},
     "output_type": "execute_result"
    }
   ],
   "source": [
    "\n",
    "df['quarter'].value_counts()"
   ]
  },
  {
   "cell_type": "code",
   "execution_count": 20,
   "metadata": {},
   "outputs": [
    {
     "data": {
      "text/plain": [
       "Quarter1    30.08%\n",
       "Quarter2    27.99%\n",
       "Quarter4    20.72%\n",
       "Quarter3    17.54%\n",
       "Quarter5     3.68%\n",
       "Name: quarter, dtype: object"
      ]
     },
     "execution_count": 20,
     "metadata": {},
     "output_type": "execute_result"
    }
   ],
   "source": [
    "# Calculate the percentage distribution of each quarter\n",
    "quarter_distribution = df['quarter'].value_counts(normalize=True) * 100\n",
    "quarter_distribution.map(\"{:.2f}%\".format)\n"
   ]
  },
  {
   "cell_type": "code",
   "execution_count": 21,
   "metadata": {},
   "outputs": [
    {
     "data": {
      "text/plain": [
       "sewing       691\n",
       "finishing    506\n",
       "Name: department, dtype: int64"
      ]
     },
     "execution_count": 21,
     "metadata": {},
     "output_type": "execute_result"
    }
   ],
   "source": [
    "df['department'].value_counts()"
   ]
  },
  {
   "cell_type": "markdown",
   "metadata": {},
   "source": [
    "We can see typo, it should be sewing instead of sweing. And finishing written twice, might be because of trailing space. We need to fixed this"
   ]
  },
  {
   "cell_type": "code",
   "execution_count": 22,
   "metadata": {},
   "outputs": [
    {
     "data": {
      "text/plain": [
       "['sewing', 'finishing']"
      ]
     },
     "execution_count": 22,
     "metadata": {},
     "output_type": "execute_result"
    }
   ],
   "source": [
    "df['department'].value_counts().index.to_list()"
   ]
  },
  {
   "cell_type": "code",
   "execution_count": 23,
   "metadata": {},
   "outputs": [
    {
     "data": {
      "text/plain": [
       "Wednesday    208\n",
       "Sunday       203\n",
       "Tuesday      201\n",
       "Thursday     199\n",
       "Monday       199\n",
       "Saturday     187\n",
       "Name: day, dtype: int64"
      ]
     },
     "execution_count": 23,
     "metadata": {},
     "output_type": "execute_result"
    }
   ],
   "source": [
    "df['day'].value_counts()"
   ]
  },
  {
   "cell_type": "code",
   "execution_count": 24,
   "metadata": {},
   "outputs": [
    {
     "data": {
      "text/plain": [
       "8     109\n",
       "2     109\n",
       "1     105\n",
       "4     105\n",
       "9     104\n",
       "10    100\n",
       "12     99\n",
       "7      96\n",
       "3      95\n",
       "6      94\n",
       "5      93\n",
       "11     88\n",
       "Name: team, dtype: int64"
      ]
     },
     "execution_count": 24,
     "metadata": {},
     "output_type": "execute_result"
    }
   ],
   "source": [
    "df['team'].value_counts()"
   ]
  },
  {
   "cell_type": "code",
   "execution_count": 25,
   "metadata": {},
   "outputs": [
    {
     "data": {
      "text/html": [
       "<div>\n",
       "<style scoped>\n",
       "    .dataframe tbody tr th:only-of-type {\n",
       "        vertical-align: middle;\n",
       "    }\n",
       "\n",
       "    .dataframe tbody tr th {\n",
       "        vertical-align: top;\n",
       "    }\n",
       "\n",
       "    .dataframe thead th {\n",
       "        text-align: right;\n",
       "    }\n",
       "</style>\n",
       "<table border=\"1\" class=\"dataframe\">\n",
       "  <thead>\n",
       "    <tr style=\"text-align: right;\">\n",
       "      <th></th>\n",
       "      <th>quarter</th>\n",
       "      <th>targeted_productivity_Sum</th>\n",
       "      <th>Average_of_Amount</th>\n",
       "    </tr>\n",
       "  </thead>\n",
       "  <tbody>\n",
       "    <tr>\n",
       "      <th>0</th>\n",
       "      <td>Quarter1</td>\n",
       "      <td>267.87</td>\n",
       "      <td>0.744083</td>\n",
       "    </tr>\n",
       "    <tr>\n",
       "      <th>1</th>\n",
       "      <td>Quarter2</td>\n",
       "      <td>245.25</td>\n",
       "      <td>0.732090</td>\n",
       "    </tr>\n",
       "    <tr>\n",
       "      <th>3</th>\n",
       "      <td>Quarter4</td>\n",
       "      <td>177.20</td>\n",
       "      <td>0.714516</td>\n",
       "    </tr>\n",
       "    <tr>\n",
       "      <th>2</th>\n",
       "      <td>Quarter3</td>\n",
       "      <td>151.45</td>\n",
       "      <td>0.721190</td>\n",
       "    </tr>\n",
       "    <tr>\n",
       "      <th>4</th>\n",
       "      <td>Quarter5</td>\n",
       "      <td>31.60</td>\n",
       "      <td>0.718182</td>\n",
       "    </tr>\n",
       "  </tbody>\n",
       "</table>\n",
       "</div>"
      ],
      "text/plain": [
       "    quarter  targeted_productivity_Sum  Average_of_Amount\n",
       "0  Quarter1                     267.87           0.744083\n",
       "1  Quarter2                     245.25           0.732090\n",
       "3  Quarter4                     177.20           0.714516\n",
       "2  Quarter3                     151.45           0.721190\n",
       "4  Quarter5                      31.60           0.718182"
      ]
     },
     "execution_count": 25,
     "metadata": {},
     "output_type": "execute_result"
    }
   ],
   "source": [
    "targeted_productivity_group_quarter=df.groupby('quarter', as_index=False).agg(\n",
    "    targeted_productivity_Sum=('targeted_productivity', 'sum'),\n",
    "    Average_of_Amount=('targeted_productivity', 'mean')\n",
    ")\n",
    "targeted_productivity_group_quarter.sort_values('targeted_productivity_Sum', ascending=False, inplace=True)\n",
    "\n",
    "targeted_productivity_group_quarter"
   ]
  },
  {
   "cell_type": "code",
   "execution_count": 26,
   "metadata": {},
   "outputs": [
    {
     "data": {
      "text/html": [
       "<div>\n",
       "<style scoped>\n",
       "    .dataframe tbody tr th:only-of-type {\n",
       "        vertical-align: middle;\n",
       "    }\n",
       "\n",
       "    .dataframe tbody tr th {\n",
       "        vertical-align: top;\n",
       "    }\n",
       "\n",
       "    .dataframe thead th {\n",
       "        text-align: right;\n",
       "    }\n",
       "</style>\n",
       "<table border=\"1\" class=\"dataframe\">\n",
       "  <thead>\n",
       "    <tr style=\"text-align: right;\">\n",
       "      <th></th>\n",
       "      <th>quarter</th>\n",
       "      <th>targeted_productivity_Sum</th>\n",
       "      <th>Average_of_Amount</th>\n",
       "    </tr>\n",
       "  </thead>\n",
       "  <tbody>\n",
       "    <tr>\n",
       "      <th>0</th>\n",
       "      <td>Quarter1</td>\n",
       "      <td>267.87</td>\n",
       "      <td>0.744083</td>\n",
       "    </tr>\n",
       "    <tr>\n",
       "      <th>1</th>\n",
       "      <td>Quarter2</td>\n",
       "      <td>245.25</td>\n",
       "      <td>0.732090</td>\n",
       "    </tr>\n",
       "    <tr>\n",
       "      <th>3</th>\n",
       "      <td>Quarter4</td>\n",
       "      <td>177.20</td>\n",
       "      <td>0.714516</td>\n",
       "    </tr>\n",
       "    <tr>\n",
       "      <th>2</th>\n",
       "      <td>Quarter3</td>\n",
       "      <td>151.45</td>\n",
       "      <td>0.721190</td>\n",
       "    </tr>\n",
       "    <tr>\n",
       "      <th>4</th>\n",
       "      <td>Quarter5</td>\n",
       "      <td>31.60</td>\n",
       "      <td>0.718182</td>\n",
       "    </tr>\n",
       "  </tbody>\n",
       "</table>\n",
       "</div>"
      ],
      "text/plain": [
       "    quarter  targeted_productivity_Sum  Average_of_Amount\n",
       "0  Quarter1                     267.87           0.744083\n",
       "1  Quarter2                     245.25           0.732090\n",
       "3  Quarter4                     177.20           0.714516\n",
       "2  Quarter3                     151.45           0.721190\n",
       "4  Quarter5                      31.60           0.718182"
      ]
     },
     "execution_count": 26,
     "metadata": {},
     "output_type": "execute_result"
    }
   ],
   "source": [
    "targeted_productivity_group_quarter=df.groupby('quarter', as_index=False).agg(\n",
    "    targeted_productivity_Sum=('targeted_productivity', 'sum'),\n",
    "    Average_of_Amount=('targeted_productivity', 'mean')\n",
    ")\n",
    "targeted_productivity_group_quarter.sort_values('targeted_productivity_Sum', ascending=False, inplace=True)\n",
    "\n",
    "targeted_productivity_group_quarter"
   ]
  },
  {
   "cell_type": "code",
   "execution_count": 27,
   "metadata": {},
   "outputs": [],
   "source": [
    "# Group by team and calculate the average actual productivity\n",
    "team_productivity = df.groupby('team')['actual_productivity'].mean().reset_index()\n",
    "\n",
    "most_productive_team = team_productivity.loc[team_productivity['actual_productivity'].idxmax()]\n",
    "\n",
    "least_productive_team = team_productivity.loc[team_productivity['actual_productivity'].idxmin()]\n"
   ]
  },
  {
   "cell_type": "code",
   "execution_count": 28,
   "metadata": {},
   "outputs": [
    {
     "data": {
      "text/html": [
       "<div>\n",
       "<style scoped>\n",
       "    .dataframe tbody tr th:only-of-type {\n",
       "        vertical-align: middle;\n",
       "    }\n",
       "\n",
       "    .dataframe tbody tr th {\n",
       "        vertical-align: top;\n",
       "    }\n",
       "\n",
       "    .dataframe thead th {\n",
       "        text-align: right;\n",
       "    }\n",
       "</style>\n",
       "<table border=\"1\" class=\"dataframe\">\n",
       "  <thead>\n",
       "    <tr style=\"text-align: right;\">\n",
       "      <th></th>\n",
       "      <th>team</th>\n",
       "      <th>actual_productivity</th>\n",
       "    </tr>\n",
       "  </thead>\n",
       "  <tbody>\n",
       "    <tr>\n",
       "      <th>0</th>\n",
       "      <td>1</td>\n",
       "      <td>0.821054</td>\n",
       "    </tr>\n",
       "    <tr>\n",
       "      <th>1</th>\n",
       "      <td>2</td>\n",
       "      <td>0.770855</td>\n",
       "    </tr>\n",
       "    <tr>\n",
       "      <th>2</th>\n",
       "      <td>3</td>\n",
       "      <td>0.803880</td>\n",
       "    </tr>\n",
       "    <tr>\n",
       "      <th>3</th>\n",
       "      <td>4</td>\n",
       "      <td>0.770035</td>\n",
       "    </tr>\n",
       "    <tr>\n",
       "      <th>4</th>\n",
       "      <td>5</td>\n",
       "      <td>0.697981</td>\n",
       "    </tr>\n",
       "    <tr>\n",
       "      <th>5</th>\n",
       "      <td>6</td>\n",
       "      <td>0.685385</td>\n",
       "    </tr>\n",
       "    <tr>\n",
       "      <th>6</th>\n",
       "      <td>7</td>\n",
       "      <td>0.668006</td>\n",
       "    </tr>\n",
       "    <tr>\n",
       "      <th>7</th>\n",
       "      <td>8</td>\n",
       "      <td>0.674148</td>\n",
       "    </tr>\n",
       "    <tr>\n",
       "      <th>8</th>\n",
       "      <td>9</td>\n",
       "      <td>0.734462</td>\n",
       "    </tr>\n",
       "    <tr>\n",
       "      <th>9</th>\n",
       "      <td>10</td>\n",
       "      <td>0.719736</td>\n",
       "    </tr>\n",
       "    <tr>\n",
       "      <th>10</th>\n",
       "      <td>11</td>\n",
       "      <td>0.681985</td>\n",
       "    </tr>\n",
       "    <tr>\n",
       "      <th>11</th>\n",
       "      <td>12</td>\n",
       "      <td>0.779055</td>\n",
       "    </tr>\n",
       "  </tbody>\n",
       "</table>\n",
       "</div>"
      ],
      "text/plain": [
       "    team  actual_productivity\n",
       "0      1             0.821054\n",
       "1      2             0.770855\n",
       "2      3             0.803880\n",
       "3      4             0.770035\n",
       "4      5             0.697981\n",
       "5      6             0.685385\n",
       "6      7             0.668006\n",
       "7      8             0.674148\n",
       "8      9             0.734462\n",
       "9     10             0.719736\n",
       "10    11             0.681985\n",
       "11    12             0.779055"
      ]
     },
     "execution_count": 28,
     "metadata": {},
     "output_type": "execute_result"
    }
   ],
   "source": [
    "team_productivity"
   ]
  },
  {
   "cell_type": "code",
   "execution_count": 29,
   "metadata": {},
   "outputs": [
    {
     "data": {
      "text/plain": [
       "team                   1.000000\n",
       "actual_productivity    0.821054\n",
       "Name: 0, dtype: float64"
      ]
     },
     "execution_count": 29,
     "metadata": {},
     "output_type": "execute_result"
    }
   ],
   "source": [
    "most_productive_team"
   ]
  },
  {
   "cell_type": "code",
   "execution_count": 30,
   "metadata": {},
   "outputs": [
    {
     "data": {
      "text/plain": [
       "team                   7.000000\n",
       "actual_productivity    0.668006\n",
       "Name: 6, dtype: float64"
      ]
     },
     "execution_count": 30,
     "metadata": {},
     "output_type": "execute_result"
    }
   ],
   "source": [
    "least_productive_team"
   ]
  },
  {
   "cell_type": "code",
   "execution_count": null,
   "metadata": {},
   "outputs": [],
   "source": []
  },
  {
   "cell_type": "markdown",
   "metadata": {},
   "source": [
    "## 1- Does the actual productivity of each team exceed their targeted productivity? Which team is the most and least productive?"
   ]
  },
  {
   "cell_type": "code",
   "execution_count": 31,
   "metadata": {},
   "outputs": [
    {
     "name": "stdout",
     "output_type": "stream",
     "text": [
      "T-statistic: 6.507679291897528, P-value: 6.063673002193352e-10\n",
      "Reject the null hypothesis: There is a significant difference in productivity between Team 1 and Team 7.\n"
     ]
    }
   ],
   "source": [
    "# Select specific teams\n",
    "team_1_productivity = df[df['team'] == 1]['actual_productivity']\n",
    "team_2_productivity = df[df['team'] == 7]['actual_productivity']\n",
    "\n",
    "t_stat, p_value = stats.ttest_ind(team_1_productivity, team_2_productivity, equal_var=True)\n",
    "\n",
    "print(f\"T-statistic: {t_stat}, P-value: {p_value}\")\n",
    "\n",
    "\n",
    "if p_value < 0.05:\n",
    "    print(\"Reject the null hypothesis: There is a significant difference in productivity between Team 1 and Team 7.\")\n",
    "else:\n",
    "    print(\"Fail to reject the null hypothesis: There is no significant difference in productivity between Team 1 and Team 7.\")"
   ]
  },
  {
   "cell_type": "code",
   "execution_count": 32,
   "metadata": {},
   "outputs": [
    {
     "name": "stdout",
     "output_type": "stream",
     "text": [
      "Actual Productivity ANOVA Results: F-statistic = 10.213784537959581, p-value = 5.164908070183416e-18\n",
      "Targeted Productivity ANOVA Results: F-statistic = 7.905788361373283, p-value = 2.2241848110143892e-13\n",
      "Reject the null hypothesis: There is a significant difference in actual productivity between the teams.\n",
      "Reject the null hypothesis: There is a significant difference in targeted productivity between the teams.\n"
     ]
    }
   ],
   "source": [
    "actual_productivities = [df[df['team'] == team]['actual_productivity'] for team in df['team'].unique()]\n",
    "targeted_productivities = [df[df['team'] == team]['targeted_productivity'] for team in df['team'].unique()]\n",
    "\n",
    "f_stat_actual, p_value_actual = f_oneway(*actual_productivities)\n",
    "f_stat_targeted, p_value_targeted = f_oneway(*targeted_productivities)\n",
    "\n",
    "print(f\"Actual Productivity ANOVA Results: F-statistic = {f_stat_actual}, p-value = {p_value_actual}\")\n",
    "print(f\"Targeted Productivity ANOVA Results: F-statistic = {f_stat_targeted}, p-value = {p_value_targeted}\")\n",
    "\n",
    "a = 0.05\n",
    "\n",
    "\n",
    "if p_value_actual < a:\n",
    "    print(\"Reject the null hypothesis: There is a significant difference in actual productivity between the teams.\")\n",
    "else:\n",
    "    print(\"Fail to reject the null hypothesis: There is no significant difference in actual productivity between the teams.\")\n",
    "\n",
    "if p_value_targeted < a:\n",
    "    print(\"Reject the null hypothesis: There is a significant difference in targeted productivity between the teams.\")\n",
    "else:\n",
    "    print(\"Fail to reject the null hypothesis: There is no significant difference in targeted productivity between the teams.\")\n",
    "\n",
    "\n"
   ]
  },
  {
   "cell_type": "code",
   "execution_count": 33,
   "metadata": {},
   "outputs": [
    {
     "data": {
      "text/html": [
       "<div>\n",
       "<style scoped>\n",
       "    .dataframe tbody tr th:only-of-type {\n",
       "        vertical-align: middle;\n",
       "    }\n",
       "\n",
       "    .dataframe tbody tr th {\n",
       "        vertical-align: top;\n",
       "    }\n",
       "\n",
       "    .dataframe thead th {\n",
       "        text-align: right;\n",
       "    }\n",
       "</style>\n",
       "<table border=\"1\" class=\"dataframe\">\n",
       "  <thead>\n",
       "    <tr style=\"text-align: right;\">\n",
       "      <th></th>\n",
       "      <th>Average Actual Productivity</th>\n",
       "      <th>Average Targeted Productivity</th>\n",
       "      <th>Difference</th>\n",
       "    </tr>\n",
       "    <tr>\n",
       "      <th>team</th>\n",
       "      <th></th>\n",
       "      <th></th>\n",
       "      <th></th>\n",
       "    </tr>\n",
       "  </thead>\n",
       "  <tbody>\n",
       "    <tr>\n",
       "      <th>1</th>\n",
       "      <td>0.821054</td>\n",
       "      <td>0.746667</td>\n",
       "      <td>0.074388</td>\n",
       "    </tr>\n",
       "    <tr>\n",
       "      <th>3</th>\n",
       "      <td>0.803880</td>\n",
       "      <td>0.742105</td>\n",
       "      <td>0.061775</td>\n",
       "    </tr>\n",
       "    <tr>\n",
       "      <th>4</th>\n",
       "      <td>0.770035</td>\n",
       "      <td>0.717619</td>\n",
       "      <td>0.052416</td>\n",
       "    </tr>\n",
       "    <tr>\n",
       "      <th>2</th>\n",
       "      <td>0.770855</td>\n",
       "      <td>0.739908</td>\n",
       "      <td>0.030947</td>\n",
       "    </tr>\n",
       "    <tr>\n",
       "      <th>5</th>\n",
       "      <td>0.697981</td>\n",
       "      <td>0.673656</td>\n",
       "      <td>0.024325</td>\n",
       "    </tr>\n",
       "    <tr>\n",
       "      <th>12</th>\n",
       "      <td>0.779055</td>\n",
       "      <td>0.774242</td>\n",
       "      <td>0.004813</td>\n",
       "    </tr>\n",
       "    <tr>\n",
       "      <th>10</th>\n",
       "      <td>0.719736</td>\n",
       "      <td>0.738500</td>\n",
       "      <td>-0.018764</td>\n",
       "    </tr>\n",
       "    <tr>\n",
       "      <th>11</th>\n",
       "      <td>0.681985</td>\n",
       "      <td>0.703977</td>\n",
       "      <td>-0.021993</td>\n",
       "    </tr>\n",
       "    <tr>\n",
       "      <th>9</th>\n",
       "      <td>0.734462</td>\n",
       "      <td>0.758173</td>\n",
       "      <td>-0.023711</td>\n",
       "    </tr>\n",
       "    <tr>\n",
       "      <th>8</th>\n",
       "      <td>0.674148</td>\n",
       "      <td>0.708257</td>\n",
       "      <td>-0.034109</td>\n",
       "    </tr>\n",
       "    <tr>\n",
       "      <th>6</th>\n",
       "      <td>0.685385</td>\n",
       "      <td>0.731383</td>\n",
       "      <td>-0.045998</td>\n",
       "    </tr>\n",
       "    <tr>\n",
       "      <th>7</th>\n",
       "      <td>0.668006</td>\n",
       "      <td>0.714271</td>\n",
       "      <td>-0.046265</td>\n",
       "    </tr>\n",
       "  </tbody>\n",
       "</table>\n",
       "</div>"
      ],
      "text/plain": [
       "      Average Actual Productivity  Average Targeted Productivity  Difference\n",
       "team                                                                        \n",
       "1                        0.821054                       0.746667    0.074388\n",
       "3                        0.803880                       0.742105    0.061775\n",
       "4                        0.770035                       0.717619    0.052416\n",
       "2                        0.770855                       0.739908    0.030947\n",
       "5                        0.697981                       0.673656    0.024325\n",
       "12                       0.779055                       0.774242    0.004813\n",
       "10                       0.719736                       0.738500   -0.018764\n",
       "11                       0.681985                       0.703977   -0.021993\n",
       "9                        0.734462                       0.758173   -0.023711\n",
       "8                        0.674148                       0.708257   -0.034109\n",
       "6                        0.685385                       0.731383   -0.045998\n",
       "7                        0.668006                       0.714271   -0.046265"
      ]
     },
     "execution_count": 33,
     "metadata": {},
     "output_type": "execute_result"
    }
   ],
   "source": [
    "\n",
    "average_actual = df.groupby('team')['actual_productivity'].mean()\n",
    "average_targeted = df.groupby('team')['targeted_productivity'].mean()\n",
    "\n",
    "team_productivity_comparison = pd.DataFrame({\n",
    "    'Average Actual Productivity': average_actual,\n",
    "    'Average Targeted Productivity': average_targeted\n",
    "})\n",
    "\n",
    "team_productivity_comparison['Difference'] = team_productivity_comparison['Average Actual Productivity'] - team_productivity_comparison['Average Targeted Productivity']\n",
    "\n",
    "team_productivity_comparison = team_productivity_comparison.sort_values(by='Difference', ascending=False)\n",
    "\n",
    "most_productive_team = team_productivity_comparison['Average Actual Productivity'].idxmax()\n",
    "least_productive_team = team_productivity_comparison['Average Actual Productivity'].idxmin()\n",
    "\n",
    "team_productivity_comparison\n"
   ]
  },
  {
   "cell_type": "code",
   "execution_count": 34,
   "metadata": {},
   "outputs": [
    {
     "data": {
      "image/png": "[encoded data removed]",
      "text/plain": [
       "<Figure size 864x432 with 1 Axes>"
      ]
     },
     "metadata": {
      "needs_background": "light"
     },
     "output_type": "display_data"
    }
   ],
   "source": [
    "\n",
    "# Calculate the difference between actual and targeted productivity\n",
    "df['productivity_difference'] = df['actual_productivity'] - df['targeted_productivity']\n",
    "\n",
    "team_productivity = df.groupby('team').agg({\n",
    "    'productivity_difference': 'mean',\n",
    "    'actual_productivity': 'mean',\n",
    "    'targeted_productivity': 'mean'\n",
    "}).reset_index()\n",
    "\n",
    "most_productive_team = team_productivity[team_productivity['actual_productivity'] == team_productivity['actual_productivity'].max()]\n",
    "least_productive_team = team_productivity[team_productivity['actual_productivity'] == team_productivity['actual_productivity'].min()]\n",
    "\n",
    "# Plotting\n",
    "plt.figure(figsize=(12, 6))\n",
    "sns.barplot(x='team', y='productivity_difference', data=team_productivity)\n",
    "plt.title('Difference Between Actual and Targeted Productivity by Team')\n",
    "plt.xlabel('Team Number')\n",
    "plt.ylabel('Productivity Difference')\n",
    "plt.axhline(0, color='red', linestyle='--')\n",
    "plt.show()\n",
    "\n"
   ]
  },
  {
   "cell_type": "code",
   "execution_count": 35,
   "metadata": {},
   "outputs": [
    {
     "data": {
      "text/html": [
       "<div>\n",
       "<style scoped>\n",
       "    .dataframe tbody tr th:only-of-type {\n",
       "        vertical-align: middle;\n",
       "    }\n",
       "\n",
       "    .dataframe tbody tr th {\n",
       "        vertical-align: top;\n",
       "    }\n",
       "\n",
       "    .dataframe thead th {\n",
       "        text-align: right;\n",
       "    }\n",
       "</style>\n",
       "<table border=\"1\" class=\"dataframe\">\n",
       "  <thead>\n",
       "    <tr style=\"text-align: right;\">\n",
       "      <th></th>\n",
       "      <th>team</th>\n",
       "      <th>productivity_difference</th>\n",
       "      <th>actual_productivity</th>\n",
       "      <th>targeted_productivity</th>\n",
       "    </tr>\n",
       "  </thead>\n",
       "  <tbody>\n",
       "    <tr>\n",
       "      <th>0</th>\n",
       "      <td>1</td>\n",
       "      <td>0.074388</td>\n",
       "      <td>0.821054</td>\n",
       "      <td>0.746667</td>\n",
       "    </tr>\n",
       "  </tbody>\n",
       "</table>\n",
       "</div>"
      ],
      "text/plain": [
       "   team  productivity_difference  actual_productivity  targeted_productivity\n",
       "0     1                 0.074388             0.821054               0.746667"
      ]
     },
     "execution_count": 35,
     "metadata": {},
     "output_type": "execute_result"
    }
   ],
   "source": [
    "most_productive_team\n"
   ]
  },
  {
   "cell_type": "code",
   "execution_count": 36,
   "metadata": {},
   "outputs": [
    {
     "data": {
      "text/html": [
       "<div>\n",
       "<style scoped>\n",
       "    .dataframe tbody tr th:only-of-type {\n",
       "        vertical-align: middle;\n",
       "    }\n",
       "\n",
       "    .dataframe tbody tr th {\n",
       "        vertical-align: top;\n",
       "    }\n",
       "\n",
       "    .dataframe thead th {\n",
       "        text-align: right;\n",
       "    }\n",
       "</style>\n",
       "<table border=\"1\" class=\"dataframe\">\n",
       "  <thead>\n",
       "    <tr style=\"text-align: right;\">\n",
       "      <th></th>\n",
       "      <th>team</th>\n",
       "      <th>productivity_difference</th>\n",
       "      <th>actual_productivity</th>\n",
       "      <th>targeted_productivity</th>\n",
       "    </tr>\n",
       "  </thead>\n",
       "  <tbody>\n",
       "    <tr>\n",
       "      <th>6</th>\n",
       "      <td>7</td>\n",
       "      <td>-0.046265</td>\n",
       "      <td>0.668006</td>\n",
       "      <td>0.714271</td>\n",
       "    </tr>\n",
       "  </tbody>\n",
       "</table>\n",
       "</div>"
      ],
      "text/plain": [
       "   team  productivity_difference  actual_productivity  targeted_productivity\n",
       "6     7                -0.046265             0.668006               0.714271"
      ]
     },
     "execution_count": 36,
     "metadata": {},
     "output_type": "execute_result"
    }
   ],
   "source": [
    "least_productive_team"
   ]
  },
  {
   "cell_type": "code",
   "execution_count": 37,
   "metadata": {},
   "outputs": [
    {
     "data": {
      "text/html": [
       "<div>\n",
       "<style scoped>\n",
       "    .dataframe tbody tr th:only-of-type {\n",
       "        vertical-align: middle;\n",
       "    }\n",
       "\n",
       "    .dataframe tbody tr th {\n",
       "        vertical-align: top;\n",
       "    }\n",
       "\n",
       "    .dataframe thead th {\n",
       "        text-align: right;\n",
       "    }\n",
       "</style>\n",
       "<table border=\"1\" class=\"dataframe\">\n",
       "  <thead>\n",
       "    <tr style=\"text-align: right;\">\n",
       "      <th></th>\n",
       "      <th>team</th>\n",
       "      <th>department</th>\n",
       "      <th>over_time_Sum</th>\n",
       "      <th>no_of_workers_Count</th>\n",
       "      <th>Average_of_Amount</th>\n",
       "    </tr>\n",
       "  </thead>\n",
       "  <tbody>\n",
       "    <tr>\n",
       "      <th>0</th>\n",
       "      <td>1</td>\n",
       "      <td>finishing</td>\n",
       "      <td>92520</td>\n",
       "      <td>49</td>\n",
       "      <td>0.827803</td>\n",
       "    </tr>\n",
       "    <tr>\n",
       "      <th>1</th>\n",
       "      <td>1</td>\n",
       "      <td>sewing</td>\n",
       "      <td>410790</td>\n",
       "      <td>56</td>\n",
       "      <td>0.815150</td>\n",
       "    </tr>\n",
       "    <tr>\n",
       "      <th>2</th>\n",
       "      <td>2</td>\n",
       "      <td>finishing</td>\n",
       "      <td>103140</td>\n",
       "      <td>52</td>\n",
       "      <td>0.780130</td>\n",
       "    </tr>\n",
       "    <tr>\n",
       "      <th>3</th>\n",
       "      <td>2</td>\n",
       "      <td>sewing</td>\n",
       "      <td>374820</td>\n",
       "      <td>57</td>\n",
       "      <td>0.762394</td>\n",
       "    </tr>\n",
       "    <tr>\n",
       "      <th>4</th>\n",
       "      <td>3</td>\n",
       "      <td>finishing</td>\n",
       "      <td>102660</td>\n",
       "      <td>37</td>\n",
       "      <td>0.847327</td>\n",
       "    </tr>\n",
       "    <tr>\n",
       "      <th>5</th>\n",
       "      <td>3</td>\n",
       "      <td>sewing</td>\n",
       "      <td>408030</td>\n",
       "      <td>58</td>\n",
       "      <td>0.776163</td>\n",
       "    </tr>\n",
       "    <tr>\n",
       "      <th>6</th>\n",
       "      <td>4</td>\n",
       "      <td>finishing</td>\n",
       "      <td>126900</td>\n",
       "      <td>46</td>\n",
       "      <td>0.820643</td>\n",
       "    </tr>\n",
       "    <tr>\n",
       "      <th>7</th>\n",
       "      <td>4</td>\n",
       "      <td>sewing</td>\n",
       "      <td>445320</td>\n",
       "      <td>59</td>\n",
       "      <td>0.730577</td>\n",
       "    </tr>\n",
       "    <tr>\n",
       "      <th>8</th>\n",
       "      <td>5</td>\n",
       "      <td>finishing</td>\n",
       "      <td>74040</td>\n",
       "      <td>35</td>\n",
       "      <td>0.791600</td>\n",
       "    </tr>\n",
       "    <tr>\n",
       "      <th>9</th>\n",
       "      <td>5</td>\n",
       "      <td>sewing</td>\n",
       "      <td>421740</td>\n",
       "      <td>58</td>\n",
       "      <td>0.641486</td>\n",
       "    </tr>\n",
       "    <tr>\n",
       "      <th>10</th>\n",
       "      <td>6</td>\n",
       "      <td>finishing</td>\n",
       "      <td>53460</td>\n",
       "      <td>35</td>\n",
       "      <td>0.627926</td>\n",
       "    </tr>\n",
       "    <tr>\n",
       "      <th>11</th>\n",
       "      <td>6</td>\n",
       "      <td>sewing</td>\n",
       "      <td>263235</td>\n",
       "      <td>59</td>\n",
       "      <td>0.719471</td>\n",
       "    </tr>\n",
       "    <tr>\n",
       "      <th>12</th>\n",
       "      <td>7</td>\n",
       "      <td>finishing</td>\n",
       "      <td>77760</td>\n",
       "      <td>41</td>\n",
       "      <td>0.685844</td>\n",
       "    </tr>\n",
       "    <tr>\n",
       "      <th>13</th>\n",
       "      <td>7</td>\n",
       "      <td>sewing</td>\n",
       "      <td>388530</td>\n",
       "      <td>55</td>\n",
       "      <td>0.654707</td>\n",
       "    </tr>\n",
       "    <tr>\n",
       "      <th>14</th>\n",
       "      <td>8</td>\n",
       "      <td>finishing</td>\n",
       "      <td>83820</td>\n",
       "      <td>53</td>\n",
       "      <td>0.692657</td>\n",
       "    </tr>\n",
       "    <tr>\n",
       "      <th>15</th>\n",
       "      <td>8</td>\n",
       "      <td>sewing</td>\n",
       "      <td>386220</td>\n",
       "      <td>56</td>\n",
       "      <td>0.656631</td>\n",
       "    </tr>\n",
       "    <tr>\n",
       "      <th>16</th>\n",
       "      <td>9</td>\n",
       "      <td>finishing</td>\n",
       "      <td>57960</td>\n",
       "      <td>46</td>\n",
       "      <td>0.724527</td>\n",
       "    </tr>\n",
       "    <tr>\n",
       "      <th>17</th>\n",
       "      <td>9</td>\n",
       "      <td>sewing</td>\n",
       "      <td>412020</td>\n",
       "      <td>58</td>\n",
       "      <td>0.742341</td>\n",
       "    </tr>\n",
       "    <tr>\n",
       "      <th>18</th>\n",
       "      <td>10</td>\n",
       "      <td>finishing</td>\n",
       "      <td>86400</td>\n",
       "      <td>43</td>\n",
       "      <td>0.723417</td>\n",
       "    </tr>\n",
       "    <tr>\n",
       "      <th>19</th>\n",
       "      <td>10</td>\n",
       "      <td>sewing</td>\n",
       "      <td>387270</td>\n",
       "      <td>57</td>\n",
       "      <td>0.716959</td>\n",
       "    </tr>\n",
       "    <tr>\n",
       "      <th>20</th>\n",
       "      <td>11</td>\n",
       "      <td>finishing</td>\n",
       "      <td>47880</td>\n",
       "      <td>29</td>\n",
       "      <td>0.693825</td>\n",
       "    </tr>\n",
       "    <tr>\n",
       "      <th>21</th>\n",
       "      <td>11</td>\n",
       "      <td>sewing</td>\n",
       "      <td>334260</td>\n",
       "      <td>59</td>\n",
       "      <td>0.676165</td>\n",
       "    </tr>\n",
       "    <tr>\n",
       "      <th>22</th>\n",
       "      <td>12</td>\n",
       "      <td>finishing</td>\n",
       "      <td>63540</td>\n",
       "      <td>40</td>\n",
       "      <td>0.792333</td>\n",
       "    </tr>\n",
       "    <tr>\n",
       "      <th>23</th>\n",
       "      <td>12</td>\n",
       "      <td>sewing</td>\n",
       "      <td>264935</td>\n",
       "      <td>59</td>\n",
       "      <td>0.770054</td>\n",
       "    </tr>\n",
       "  </tbody>\n",
       "</table>\n",
       "</div>"
      ],
      "text/plain": [
       "    team department  over_time_Sum  no_of_workers_Count  Average_of_Amount\n",
       "0      1  finishing          92520                   49           0.827803\n",
       "1      1     sewing         410790                   56           0.815150\n",
       "2      2  finishing         103140                   52           0.780130\n",
       "3      2     sewing         374820                   57           0.762394\n",
       "4      3  finishing         102660                   37           0.847327\n",
       "5      3     sewing         408030                   58           0.776163\n",
       "6      4  finishing         126900                   46           0.820643\n",
       "7      4     sewing         445320                   59           0.730577\n",
       "8      5  finishing          74040                   35           0.791600\n",
       "9      5     sewing         421740                   58           0.641486\n",
       "10     6  finishing          53460                   35           0.627926\n",
       "11     6     sewing         263235                   59           0.719471\n",
       "12     7  finishing          77760                   41           0.685844\n",
       "13     7     sewing         388530                   55           0.654707\n",
       "14     8  finishing          83820                   53           0.692657\n",
       "15     8     sewing         386220                   56           0.656631\n",
       "16     9  finishing          57960                   46           0.724527\n",
       "17     9     sewing         412020                   58           0.742341\n",
       "18    10  finishing          86400                   43           0.723417\n",
       "19    10     sewing         387270                   57           0.716959\n",
       "20    11  finishing          47880                   29           0.693825\n",
       "21    11     sewing         334260                   59           0.676165\n",
       "22    12  finishing          63540                   40           0.792333\n",
       "23    12     sewing         264935                   59           0.770054"
      ]
     },
     "execution_count": 37,
     "metadata": {},
     "output_type": "execute_result"
    }
   ],
   "source": [
    "df_group_team_department = df.groupby(['team', 'department'], as_index=False).agg(\n",
    "    over_time_Sum=('over_time', 'sum'),\n",
    "    no_of_workers_Count=('no_of_workers', 'count'),\n",
    "    Average_of_Amount=('actual_productivity', 'mean')\n",
    ")\n",
    "df_group_team_department['department'] = df_group_team_department['department']\n",
    "\n",
    "df_group_team_department\n"
   ]
  },
  {
   "cell_type": "code",
   "execution_count": 38,
   "metadata": {},
   "outputs": [
    {
     "name": "stdout",
     "output_type": "stream",
     "text": [
      "  department  over_time  actual_productivity\n",
      "0  finishing     970080             0.752951\n",
      "1     sewing    4497170             0.722013\n"
     ]
    }
   ],
   "source": [
    "average_overtime = df.groupby('department')['over_time'].sum().reset_index()\n",
    "average_actual_productivity= df.groupby('department')['actual_productivity'].mean().reset_index()\n",
    "\n",
    "# Merge the averages into a single DataFrame\n",
    "tedious_comparison = average_overtime.merge(average_actual_productivity, on='department', how='inner')\n",
    "\n",
    "print(tedious_comparison)"
   ]
  },
  {
   "cell_type": "markdown",
   "metadata": {},
   "source": [
    "# Which of the two garment production processes (sewing and finishing) is considered the most tedious?"
   ]
  },
  {
   "cell_type": "code",
   "execution_count": 39,
   "metadata": {},
   "outputs": [
    {
     "data": {
      "image/png": "[encoded data removed]",
      "text/plain": [
       "<Figure size 1296x720 with 6 Axes>"
      ]
     },
     "metadata": {
      "needs_background": "light"
     },
     "output_type": "display_data"
    }
   ],
   "source": [
    "\n",
    "fig, axs = plt.subplots(2, 3, figsize=(18, 10))\n",
    "\n",
    "# Plot SMV comparison\n",
    "sns.barplot(data=df, x='department', y='smv', ax=axs[0][0])\n",
    "axs[0][0].set_title('SMV by Department')\n",
    "axs[0][0].set_ylabel('SMV (Standard Minute Value)')\n",
    "axs[0][0].grid(axis='y', linestyle='--', alpha=0.7)\n",
    "\n",
    "# Plot sum of incentives\n",
    "sns.barplot(data=df, x='department', y='incentive', ax=axs[0][1], estimator=np.sum)\n",
    "axs[0][1].set_title('Total Incentives by Department')\n",
    "axs[0][1].set_ylabel('Total Incentives')\n",
    "axs[0][1].grid(axis='y', linestyle='--', alpha=0.7)\n",
    "\n",
    "# Plot overtime comparison\n",
    "sns.barplot(data=df, x='department', y='over_time', ax=axs[0][2])\n",
    "axs[0][2].set_title('Overtime by Department')\n",
    "axs[0][2].set_ylabel('Overtime (minutes)')\n",
    "axs[0][2].grid(axis='y', linestyle='--', alpha=0.7)\n",
    "\n",
    "# Plot Work in Progress \n",
    "sns.barplot(data=df, x='department', y='wip', ax=axs[1][0])\n",
    "axs[1][0].set_title('Work In Progress (WIP) by Department')\n",
    "axs[1][0].set_ylabel('WIP')\n",
    "axs[1][0].grid(axis='y', linestyle='--', alpha=0.7)\n",
    "\n",
    "# Plot overtime comparison\n",
    "sns.barplot(data=df, x='department', y='actual_productivity', ax=axs[1][1])\n",
    "axs[1][1].set_title('Actual Productivity by Department')\n",
    "axs[1][1].set_xlabel('Department')\n",
    "axs[1][1].set_ylabel('Average Productivity')\n",
    "axs[1][1].grid(axis='y', linestyle='--', alpha=0.7)\n",
    "\n",
    "# Plot Work in Progress (WIP) comparison\n",
    "sns.barplot(data=df, x='department', y='idle_time', ax=axs[1][2])\n",
    "axs[1][2].set_title('Idle Time by Department')\n",
    "axs[1][2].set_xlabel('Department')\n",
    "axs[1][2].set_ylabel('Average Idle Time (Minutes)')\n",
    "axs[1][2].grid(axis='y', linestyle='--', alpha=0.7)\n",
    "\n",
    "\n",
    "\n",
    "plt.tight_layout()\n",
    "plt.show()\n",
    "\n"
   ]
  },
  {
   "cell_type": "code",
   "execution_count": 40,
   "metadata": {},
   "outputs": [
    {
     "name": "stdout",
     "output_type": "stream",
     "text": [
      "T-statistic: -3.040752443283168, P-value: 0.0024112599776238385\n",
      "Reject the null hypothesis: There is a significant difference in productivity.\n"
     ]
    }
   ],
   "source": [
    "# Filter data for sewing and finishing departments\n",
    "sewing = df[df['department'] == 'sewing']['actual_productivity']\n",
    "finishing = df[df['department'] == 'finishing']['actual_productivity']\n",
    "\n",
    "# t-test\n",
    "t_stat, p_value = stats.ttest_ind(sewing, finishing, equal_var=True)  # equal_var is True if variances are assumed to be equal\n",
    "\n",
    "\n",
    "print(f\"T-statistic: {t_stat}, P-value: {p_value}\")\n",
    "if p_value < 0.05:\n",
    "    print(\"Reject the null hypothesis: There is a significant difference in productivity.\")\n",
    "else:\n",
    "    print(\"Fail to reject the null hypothesis: There is no significant difference in productivity.\")\n"
   ]
  },
  {
   "cell_type": "markdown",
   "metadata": {},
   "source": [
    " # Which day do workers typically take as a rest day, and how does this affect their productivity afterward?"
   ]
  },
  {
   "cell_type": "code",
   "execution_count": 41,
   "metadata": {},
   "outputs": [
    {
     "data": {
      "image/png": "[encoded data removed]",
      "text/plain": [
       "<Figure size 720x432 with 1 Axes>"
      ]
     },
     "metadata": {
      "needs_background": "light"
     },
     "output_type": "display_data"
    },
    {
     "data": {
      "text/plain": [
       "day\n",
       "Monday       0.735488\n",
       "Tuesday      0.742701\n",
       "Wednesday    0.730462\n",
       "Thursday     0.722641\n",
       "Friday            NaN\n",
       "Saturday     0.751929\n",
       "Sunday       0.728604\n",
       "Name: actual_productivity, dtype: float64"
      ]
     },
     "execution_count": 41,
     "metadata": {},
     "output_type": "execute_result"
    }
   ],
   "source": [
    "# Group data by weekday to analyze average productivity\n",
    "productivity_by_day = df.groupby('day')['actual_productivity'].mean()\n",
    "\n",
    "# Sort\n",
    "ordered_days = ['Monday', 'Tuesday', 'Wednesday', 'Thursday', 'Friday', 'Saturday', 'Sunday']\n",
    "productivity_by_day = productivity_by_day.reindex(ordered_days)\n",
    "\n",
    "plt.figure(figsize=(10, 6))\n",
    "productivity_by_day.plot(kind='bar', color='skyblue')\n",
    "plt.title('Average Productivity by Weekday')\n",
    "plt.xlabel('Weekday')\n",
    "plt.ylabel('Average Productivity')\n",
    "plt.xticks(rotation=0)\n",
    "plt.grid(axis='y', linestyle='--', alpha=0.7)\n",
    "plt.tight_layout()\n",
    "plt.show()\n",
    "\n",
    "productivity_by_day\n"
   ]
  },
  {
   "cell_type": "code",
   "execution_count": 42,
   "metadata": {},
   "outputs": [
    {
     "data": {
      "image/png": "[encoded data removed]",
      "text/plain": [
       "<Figure size 720x432 with 1 Axes>"
      ]
     },
     "metadata": {
      "needs_background": "light"
     },
     "output_type": "display_data"
    }
   ],
   "source": [
    "targeted_productivity_by_day = df.groupby('day')['targeted_productivity'].mean()\n",
    "targeted_productivity_by_day = targeted_productivity_by_day.reindex(ordered_days)\n",
    "\n",
    "\n",
    "plt.figure(figsize=(10, 6))\n",
    "width = 0.35\n",
    "x = range(len(ordered_days))\n",
    "\n",
    "plt.bar(x, targeted_productivity_by_day.values, width, label='Targeted Productivity', color='orange')\n",
    "plt.bar(x, productivity_by_day.values, width, label='Actual Productivity', color='green', bottom=targeted_productivity_by_day.values)\n",
    "\n",
    "plt.title('Targeted vs Actual Productivity by Weekday')\n",
    "plt.xlabel('Weekday')\n",
    "plt.ylabel('Average Productivity')\n",
    "plt.xticks(x, ordered_days, rotation=0)\n",
    "plt.legend(loc='upper left')\n",
    "plt.grid(axis='y', linestyle='--', alpha=0.7)\n",
    "plt.tight_layout()\n",
    "plt.show()\n"
   ]
  },
  {
   "cell_type": "code",
   "execution_count": 43,
   "metadata": {},
   "outputs": [
    {
     "data": {
      "text/html": [
       "<div>\n",
       "<style scoped>\n",
       "    .dataframe tbody tr th:only-of-type {\n",
       "        vertical-align: middle;\n",
       "    }\n",
       "\n",
       "    .dataframe tbody tr th {\n",
       "        vertical-align: top;\n",
       "    }\n",
       "\n",
       "    .dataframe thead th {\n",
       "        text-align: right;\n",
       "    }\n",
       "</style>\n",
       "<table border=\"1\" class=\"dataframe\">\n",
       "  <thead>\n",
       "    <tr style=\"text-align: right;\">\n",
       "      <th></th>\n",
       "      <th>Average Actual Productivity</th>\n",
       "      <th>Average Targeted Productivity</th>\n",
       "      <th>Difference</th>\n",
       "    </tr>\n",
       "    <tr>\n",
       "      <th>day</th>\n",
       "      <th></th>\n",
       "      <th></th>\n",
       "      <th></th>\n",
       "    </tr>\n",
       "  </thead>\n",
       "  <tbody>\n",
       "    <tr>\n",
       "      <th>Saturday</th>\n",
       "      <td>0.751929</td>\n",
       "      <td>0.733690</td>\n",
       "      <td>0.018239</td>\n",
       "    </tr>\n",
       "    <tr>\n",
       "      <th>Tuesday</th>\n",
       "      <td>0.742701</td>\n",
       "      <td>0.727612</td>\n",
       "      <td>0.015089</td>\n",
       "    </tr>\n",
       "    <tr>\n",
       "      <th>Monday</th>\n",
       "      <td>0.735488</td>\n",
       "      <td>0.729397</td>\n",
       "      <td>0.006092</td>\n",
       "    </tr>\n",
       "    <tr>\n",
       "      <th>Thursday</th>\n",
       "      <td>0.722641</td>\n",
       "      <td>0.720704</td>\n",
       "      <td>0.001937</td>\n",
       "    </tr>\n",
       "    <tr>\n",
       "      <th>Wednesday</th>\n",
       "      <td>0.730462</td>\n",
       "      <td>0.729087</td>\n",
       "      <td>0.001375</td>\n",
       "    </tr>\n",
       "    <tr>\n",
       "      <th>Sunday</th>\n",
       "      <td>0.728604</td>\n",
       "      <td>0.737438</td>\n",
       "      <td>-0.008834</td>\n",
       "    </tr>\n",
       "  </tbody>\n",
       "</table>\n",
       "</div>"
      ],
      "text/plain": [
       "           Average Actual Productivity  Average Targeted Productivity  \\\n",
       "day                                                                     \n",
       "Saturday                      0.751929                       0.733690   \n",
       "Tuesday                       0.742701                       0.727612   \n",
       "Monday                        0.735488                       0.729397   \n",
       "Thursday                      0.722641                       0.720704   \n",
       "Wednesday                     0.730462                       0.729087   \n",
       "Sunday                        0.728604                       0.737438   \n",
       "\n",
       "           Difference  \n",
       "day                    \n",
       "Saturday     0.018239  \n",
       "Tuesday      0.015089  \n",
       "Monday       0.006092  \n",
       "Thursday     0.001937  \n",
       "Wednesday    0.001375  \n",
       "Sunday      -0.008834  "
      ]
     },
     "execution_count": 43,
     "metadata": {},
     "output_type": "execute_result"
    }
   ],
   "source": [
    "average_actual = df.groupby('day')['actual_productivity'].mean()\n",
    "average_targeted = df.groupby('day')['targeted_productivity'].mean()\n",
    "\n",
    "team_productivity_comparison = pd.DataFrame({\n",
    "    'Average Actual Productivity': average_actual,\n",
    "    'Average Targeted Productivity': average_targeted\n",
    "})\n",
    "\n",
    "team_productivity_comparison['Difference'] = team_productivity_comparison['Average Actual Productivity'] - team_productivity_comparison['Average Targeted Productivity']\n",
    "\n",
    "team_productivity_comparison = team_productivity_comparison.sort_values(by='Difference', ascending=False)\n",
    "\n",
    "# Identify the most and least productive teams\n",
    "most_productive_team = team_productivity_comparison['Average Actual Productivity'].idxmax()\n",
    "least_productive_team = team_productivity_comparison['Average Actual Productivity'].idxmin()\n",
    "\n",
    "team_productivity_comparison"
   ]
  },
  {
   "cell_type": "markdown",
   "metadata": {},
   "source": [
    "# When does the company pay more incentives to its workers, and do both sewing and finishing departments enjoy the same incentives?"
   ]
  },
  {
   "cell_type": "code",
   "execution_count": 44,
   "metadata": {},
   "outputs": [],
   "source": [
    "\n",
    "incentive_stats = df.groupby(['date', 'department'])['incentive'].sum().reset_index()\n",
    "incentive_dept = df.groupby(['quarter', 'department'])['incentive'].sum().reset_index()\n",
    "overall_incentives = df.groupby('department')['incentive'].sum().reset_index()\n",
    "\n",
    "# Analyze the highest incentive periods\n",
    "top_incentive_periods = incentive_stats.sort_values(by='incentive', ascending=False).head(10)\n",
    "top_incentive_periods = pd.merge(top_incentive_periods, df[['date', 'quarter']].drop_duplicates(), on='date', how='left')\n"
   ]
  },
  {
   "cell_type": "code",
   "execution_count": 45,
   "metadata": {},
   "outputs": [
    {
     "data": {
      "image/png": "[encoded data removed]",
      "text/plain": [
       "<Figure size 720x432 with 1 Axes>"
      ]
     },
     "metadata": {
      "needs_background": "light"
     },
     "output_type": "display_data"
    }
   ],
   "source": [
    "plt.figure(figsize=(10, 6))\n",
    "sns.barplot(data=overall_incentives, x='department', y='incentive', palette='viridis')\n",
    "plt.title('Total Incentives by Department')\n",
    "plt.xlabel('Department')\n",
    "plt.ylabel('Total Incentives')\n",
    "plt.show()\n"
   ]
  },
  {
   "cell_type": "code",
   "execution_count": 46,
   "metadata": {},
   "outputs": [
    {
     "data": {
      "image/png": "[encoded data removed]",
      "text/plain": [
       "<Figure size 864x432 with 1 Axes>"
      ]
     },
     "metadata": {
      "needs_background": "light"
     },
     "output_type": "display_data"
    },
    {
     "data": {
      "text/html": [
       "<div>\n",
       "<style scoped>\n",
       "    .dataframe tbody tr th:only-of-type {\n",
       "        vertical-align: middle;\n",
       "    }\n",
       "\n",
       "    .dataframe tbody tr th {\n",
       "        vertical-align: top;\n",
       "    }\n",
       "\n",
       "    .dataframe thead th {\n",
       "        text-align: right;\n",
       "    }\n",
       "</style>\n",
       "<table border=\"1\" class=\"dataframe\">\n",
       "  <thead>\n",
       "    <tr style=\"text-align: right;\">\n",
       "      <th></th>\n",
       "      <th>date</th>\n",
       "      <th>department</th>\n",
       "      <th>incentive</th>\n",
       "      <th>quarter</th>\n",
       "    </tr>\n",
       "  </thead>\n",
       "  <tbody>\n",
       "    <tr>\n",
       "      <th>0</th>\n",
       "      <td>3/9/2015</td>\n",
       "      <td>finishing</td>\n",
       "      <td>15000</td>\n",
       "      <td>Quarter2</td>\n",
       "    </tr>\n",
       "    <tr>\n",
       "      <th>1</th>\n",
       "      <td>1/31/2015</td>\n",
       "      <td>sewing</td>\n",
       "      <td>742</td>\n",
       "      <td>Quarter5</td>\n",
       "    </tr>\n",
       "    <tr>\n",
       "      <th>2</th>\n",
       "      <td>1/29/2015</td>\n",
       "      <td>sewing</td>\n",
       "      <td>718</td>\n",
       "      <td>Quarter5</td>\n",
       "    </tr>\n",
       "    <tr>\n",
       "      <th>3</th>\n",
       "      <td>1/8/2015</td>\n",
       "      <td>sewing</td>\n",
       "      <td>691</td>\n",
       "      <td>Quarter2</td>\n",
       "    </tr>\n",
       "    <tr>\n",
       "      <th>4</th>\n",
       "      <td>1/24/2015</td>\n",
       "      <td>sewing</td>\n",
       "      <td>682</td>\n",
       "      <td>Quarter4</td>\n",
       "    </tr>\n",
       "    <tr>\n",
       "      <th>5</th>\n",
       "      <td>1/7/2015</td>\n",
       "      <td>sewing</td>\n",
       "      <td>672</td>\n",
       "      <td>Quarter1</td>\n",
       "    </tr>\n",
       "    <tr>\n",
       "      <th>6</th>\n",
       "      <td>1/28/2015</td>\n",
       "      <td>sewing</td>\n",
       "      <td>659</td>\n",
       "      <td>Quarter4</td>\n",
       "    </tr>\n",
       "    <tr>\n",
       "      <th>7</th>\n",
       "      <td>1/25/2015</td>\n",
       "      <td>sewing</td>\n",
       "      <td>656</td>\n",
       "      <td>Quarter4</td>\n",
       "    </tr>\n",
       "    <tr>\n",
       "      <th>8</th>\n",
       "      <td>2/1/2015</td>\n",
       "      <td>sewing</td>\n",
       "      <td>652</td>\n",
       "      <td>Quarter1</td>\n",
       "    </tr>\n",
       "    <tr>\n",
       "      <th>9</th>\n",
       "      <td>2/3/2015</td>\n",
       "      <td>sewing</td>\n",
       "      <td>640</td>\n",
       "      <td>Quarter1</td>\n",
       "    </tr>\n",
       "  </tbody>\n",
       "</table>\n",
       "</div>"
      ],
      "text/plain": [
       "        date department  incentive   quarter\n",
       "0   3/9/2015  finishing      15000  Quarter2\n",
       "1  1/31/2015     sewing        742  Quarter5\n",
       "2  1/29/2015     sewing        718  Quarter5\n",
       "3   1/8/2015     sewing        691  Quarter2\n",
       "4  1/24/2015     sewing        682  Quarter4\n",
       "5   1/7/2015     sewing        672  Quarter1\n",
       "6  1/28/2015     sewing        659  Quarter4\n",
       "7  1/25/2015     sewing        656  Quarter4\n",
       "8   2/1/2015     sewing        652  Quarter1\n",
       "9   2/3/2015     sewing        640  Quarter1"
      ]
     },
     "execution_count": 46,
     "metadata": {},
     "output_type": "execute_result"
    }
   ],
   "source": [
    "\n",
    "# Visualize the incentives by quarter for both departments\n",
    "plt.figure(figsize=(12, 6))\n",
    "sns.barplot(data=incentive_dept, x='quarter', y='incentive', hue='department', palette='coolwarm')\n",
    "plt.title('Incentives by Quarter and Department')\n",
    "plt.xlabel('Quarter')\n",
    "plt.ylabel('Total Incentives')\n",
    "plt.legend(title='Department')\n",
    "plt.show()\n",
    "\n",
    "top_incentive_periods\n"
   ]
  },
  {
   "cell_type": "code",
   "execution_count": 47,
   "metadata": {},
   "outputs": [
    {
     "data": {
      "text/html": [
       "<div>\n",
       "<style scoped>\n",
       "    .dataframe tbody tr th:only-of-type {\n",
       "        vertical-align: middle;\n",
       "    }\n",
       "\n",
       "    .dataframe tbody tr th {\n",
       "        vertical-align: top;\n",
       "    }\n",
       "\n",
       "    .dataframe thead th {\n",
       "        text-align: right;\n",
       "    }\n",
       "</style>\n",
       "<table border=\"1\" class=\"dataframe\">\n",
       "  <thead>\n",
       "    <tr style=\"text-align: right;\">\n",
       "      <th>department</th>\n",
       "      <th>finishing</th>\n",
       "      <th>sewing</th>\n",
       "    </tr>\n",
       "    <tr>\n",
       "      <th>quarter</th>\n",
       "      <th></th>\n",
       "      <th></th>\n",
       "    </tr>\n",
       "  </thead>\n",
       "  <tbody>\n",
       "    <tr>\n",
       "      <th>Quarter1</th>\n",
       "      <td>0.000000</td>\n",
       "      <td>46.834123</td>\n",
       "    </tr>\n",
       "    <tr>\n",
       "      <th>Quarter2</th>\n",
       "      <td>102.040816</td>\n",
       "      <td>44.468085</td>\n",
       "    </tr>\n",
       "    <tr>\n",
       "      <th>Quarter3</th>\n",
       "      <td>0.000000</td>\n",
       "      <td>37.837209</td>\n",
       "    </tr>\n",
       "    <tr>\n",
       "      <th>Quarter4</th>\n",
       "      <td>0.000000</td>\n",
       "      <td>43.964286</td>\n",
       "    </tr>\n",
       "    <tr>\n",
       "      <th>Quarter5</th>\n",
       "      <td>0.000000</td>\n",
       "      <td>63.478261</td>\n",
       "    </tr>\n",
       "  </tbody>\n",
       "</table>\n",
       "</div>"
      ],
      "text/plain": [
       "department   finishing     sewing\n",
       "quarter                          \n",
       "Quarter1      0.000000  46.834123\n",
       "Quarter2    102.040816  44.468085\n",
       "Quarter3      0.000000  37.837209\n",
       "Quarter4      0.000000  43.964286\n",
       "Quarter5      0.000000  63.478261"
      ]
     },
     "execution_count": 47,
     "metadata": {},
     "output_type": "execute_result"
    }
   ],
   "source": [
    "# Group by quarter and department \n",
    "grouped_incentives = df.groupby(['quarter', 'department'])['incentive'].mean().unstack()\n",
    "\n",
    "# Overall incentive trend by quarter\n",
    "overall_incentive_trend = df.groupby(['quarter'])['incentive'].mean()\n",
    "\n",
    "grouped_incentives"
   ]
  },
  {
   "cell_type": "code",
   "execution_count": 48,
   "metadata": {},
   "outputs": [
    {
     "data": {
      "text/plain": [
       "quarter\n",
       "Quarter1    27.450000\n",
       "Quarter2    69.731343\n",
       "Quarter3    23.242857\n",
       "Quarter4    24.818548\n",
       "Quarter5    33.181818\n",
       "Name: incentive, dtype: float64"
      ]
     },
     "execution_count": 48,
     "metadata": {},
     "output_type": "execute_result"
    }
   ],
   "source": [
    "overall_incentive_trend\n"
   ]
  },
  {
   "cell_type": "code",
   "execution_count": 49,
   "metadata": {},
   "outputs": [
    {
     "data": {
      "text/html": [
       "<div>\n",
       "<style scoped>\n",
       "    .dataframe tbody tr th:only-of-type {\n",
       "        vertical-align: middle;\n",
       "    }\n",
       "\n",
       "    .dataframe tbody tr th {\n",
       "        vertical-align: top;\n",
       "    }\n",
       "\n",
       "    .dataframe thead th {\n",
       "        text-align: right;\n",
       "    }\n",
       "</style>\n",
       "<table border=\"1\" class=\"dataframe\">\n",
       "  <thead>\n",
       "    <tr style=\"text-align: right;\">\n",
       "      <th></th>\n",
       "      <th>quarter</th>\n",
       "      <th>department</th>\n",
       "      <th>incentive</th>\n",
       "    </tr>\n",
       "  </thead>\n",
       "  <tbody>\n",
       "    <tr>\n",
       "      <th>0</th>\n",
       "      <td>Quarter1</td>\n",
       "      <td>finishing</td>\n",
       "      <td>0.000000</td>\n",
       "    </tr>\n",
       "    <tr>\n",
       "      <th>1</th>\n",
       "      <td>Quarter1</td>\n",
       "      <td>sewing</td>\n",
       "      <td>46.834123</td>\n",
       "    </tr>\n",
       "    <tr>\n",
       "      <th>2</th>\n",
       "      <td>Quarter2</td>\n",
       "      <td>finishing</td>\n",
       "      <td>102.040816</td>\n",
       "    </tr>\n",
       "    <tr>\n",
       "      <th>3</th>\n",
       "      <td>Quarter2</td>\n",
       "      <td>sewing</td>\n",
       "      <td>44.468085</td>\n",
       "    </tr>\n",
       "    <tr>\n",
       "      <th>4</th>\n",
       "      <td>Quarter3</td>\n",
       "      <td>finishing</td>\n",
       "      <td>0.000000</td>\n",
       "    </tr>\n",
       "    <tr>\n",
       "      <th>5</th>\n",
       "      <td>Quarter3</td>\n",
       "      <td>sewing</td>\n",
       "      <td>37.837209</td>\n",
       "    </tr>\n",
       "    <tr>\n",
       "      <th>6</th>\n",
       "      <td>Quarter4</td>\n",
       "      <td>finishing</td>\n",
       "      <td>0.000000</td>\n",
       "    </tr>\n",
       "    <tr>\n",
       "      <th>7</th>\n",
       "      <td>Quarter4</td>\n",
       "      <td>sewing</td>\n",
       "      <td>43.964286</td>\n",
       "    </tr>\n",
       "    <tr>\n",
       "      <th>8</th>\n",
       "      <td>Quarter5</td>\n",
       "      <td>finishing</td>\n",
       "      <td>0.000000</td>\n",
       "    </tr>\n",
       "    <tr>\n",
       "      <th>9</th>\n",
       "      <td>Quarter5</td>\n",
       "      <td>sewing</td>\n",
       "      <td>63.478261</td>\n",
       "    </tr>\n",
       "  </tbody>\n",
       "</table>\n",
       "</div>"
      ],
      "text/plain": [
       "    quarter department   incentive\n",
       "0  Quarter1  finishing    0.000000\n",
       "1  Quarter1     sewing   46.834123\n",
       "2  Quarter2  finishing  102.040816\n",
       "3  Quarter2     sewing   44.468085\n",
       "4  Quarter3  finishing    0.000000\n",
       "5  Quarter3     sewing   37.837209\n",
       "6  Quarter4  finishing    0.000000\n",
       "7  Quarter4     sewing   43.964286\n",
       "8  Quarter5  finishing    0.000000\n",
       "9  Quarter5     sewing   63.478261"
      ]
     },
     "execution_count": 49,
     "metadata": {},
     "output_type": "execute_result"
    }
   ],
   "source": [
    "# Aggregating data to analyze when higher incentives are paid\n",
    "incentive_analysis = df.groupby(['quarter', 'department'])['incentive'].mean().reset_index()\n",
    "\n",
    "# Comparing average incentives between sewing and finishing departments\n",
    "sewing_finishing_comparison = df.groupby('department')['incentive'].describe()\n",
    "\n",
    "incentive_analysis"
   ]
  },
  {
   "cell_type": "code",
   "execution_count": 50,
   "metadata": {},
   "outputs": [
    {
     "name": "stderr",
     "output_type": "stream",
     "text": [
      "C:\\Users\\alexa\\AppData\\Local\\Temp\\ipykernel_1948\\3480456520.py:2: FutureWarning: The default value of numeric_only in DataFrame.corr is deprecated. In a future version, it will default to False. Select only valid columns or specify the value of numeric_only to silence this warning.\n",
      "  correlation = df.corr()\n"
     ]
    },
    {
     "name": "stdout",
     "output_type": "stream",
     "text": [
      "1197 Rows included\n"
     ]
    },
    {
     "data": {
      "image/png": "[encoded data removed]",
      "text/plain": [
       "<Figure size 864x720 with 2 Axes>"
      ]
     },
     "metadata": {
      "needs_background": "light"
     },
     "output_type": "display_data"
    },
    {
     "name": "stdout",
     "output_type": "stream",
     "text": [
      "actual_productivity        1.000000\n",
      "productivity_difference    0.832182\n",
      "Name: actual_productivity, dtype: float64\n"
     ]
    }
   ],
   "source": [
    "plt.figure(figsize=(12,10))\n",
    "correlation = df.corr()\n",
    "sns.heatmap(correlation, annot=True, cmap='coolwarm')\n",
    "print(len(df), \"Rows included\")\n",
    "plt.show()\n",
    "\n",
    "# Correlation with dependant variable\n",
    "correlation_target = abs(correlation[\"actual_productivity\"])\n",
    "selected_features_heatmap = correlation_target[correlation_target>0.5]\n",
    "print(selected_features_heatmap)"
   ]
  },
  {
   "cell_type": "code",
   "execution_count": 51,
   "metadata": {},
   "outputs": [
    {
     "name": "stdout",
     "output_type": "stream",
     "text": [
      "Polynomial Degree: 2\n",
      "Mean Squared Error (MSE): 0.018000756651364958\n",
      "Mean Absolute Error (MAE): 0.09085918788284768\n",
      "R-squared (R²) Score: 0.3220683797736097\n"
     ]
    },
    {
     "data": {
      "text/html": [
       "<div>\n",
       "<style scoped>\n",
       "    .dataframe tbody tr th:only-of-type {\n",
       "        vertical-align: middle;\n",
       "    }\n",
       "\n",
       "    .dataframe tbody tr th {\n",
       "        vertical-align: top;\n",
       "    }\n",
       "\n",
       "    .dataframe thead th {\n",
       "        text-align: right;\n",
       "    }\n",
       "</style>\n",
       "<table border=\"1\" class=\"dataframe\">\n",
       "  <thead>\n",
       "    <tr style=\"text-align: right;\">\n",
       "      <th></th>\n",
       "      <th>Actual Productivity</th>\n",
       "      <th>Predicted Productivity</th>\n",
       "    </tr>\n",
       "  </thead>\n",
       "  <tbody>\n",
       "    <tr>\n",
       "      <th>921</th>\n",
       "      <td>0.268214</td>\n",
       "      <td>0.516878</td>\n",
       "    </tr>\n",
       "    <tr>\n",
       "      <th>321</th>\n",
       "      <td>0.800359</td>\n",
       "      <td>0.827363</td>\n",
       "    </tr>\n",
       "    <tr>\n",
       "      <th>101</th>\n",
       "      <td>0.681061</td>\n",
       "      <td>0.781735</td>\n",
       "    </tr>\n",
       "    <tr>\n",
       "      <th>920</th>\n",
       "      <td>0.325000</td>\n",
       "      <td>0.715008</td>\n",
       "    </tr>\n",
       "    <tr>\n",
       "      <th>58</th>\n",
       "      <td>0.667604</td>\n",
       "      <td>0.789802</td>\n",
       "    </tr>\n",
       "    <tr>\n",
       "      <th>790</th>\n",
       "      <td>0.800980</td>\n",
       "      <td>0.593105</td>\n",
       "    </tr>\n",
       "    <tr>\n",
       "      <th>948</th>\n",
       "      <td>0.768847</td>\n",
       "      <td>0.614827</td>\n",
       "    </tr>\n",
       "    <tr>\n",
       "      <th>969</th>\n",
       "      <td>0.768847</td>\n",
       "      <td>0.614827</td>\n",
       "    </tr>\n",
       "    <tr>\n",
       "      <th>410</th>\n",
       "      <td>0.650417</td>\n",
       "      <td>0.601504</td>\n",
       "    </tr>\n",
       "    <tr>\n",
       "      <th>1079</th>\n",
       "      <td>0.750396</td>\n",
       "      <td>0.763044</td>\n",
       "    </tr>\n",
       "  </tbody>\n",
       "</table>\n",
       "</div>"
      ],
      "text/plain": [
       "      Actual Productivity  Predicted Productivity\n",
       "921              0.268214                0.516878\n",
       "321              0.800359                0.827363\n",
       "101              0.681061                0.781735\n",
       "920              0.325000                0.715008\n",
       "58               0.667604                0.789802\n",
       "790              0.800980                0.593105\n",
       "948              0.768847                0.614827\n",
       "969              0.768847                0.614827\n",
       "410              0.650417                0.601504\n",
       "1079             0.750396                0.763044"
      ]
     },
     "execution_count": 51,
     "metadata": {},
     "output_type": "execute_result"
    }
   ],
   "source": [
    "# Select only the numerical crelevant to productivity\n",
    "numerical_features = [ 'targeted_productivity', 'smv', 'over_time',\n",
    "    'incentive', 'no_of_workers']\n",
    "X = df[numerical_features]\n",
    "y = df['actual_productivity']\n",
    "\n",
    "# Split the dataset into training (80%) and testing (20%) sets\n",
    "X_train, X_test, y_train, y_test = train_test_split(X, y, test_size=0.2, random_state=42)\n",
    "\n",
    "# polynomial features and linear regression\n",
    "degree = 2  # increase or decrease the polynomial degree\n",
    "pipeline = make_pipeline(PolynomialFeatures(degree), LinearRegression())\n",
    "\n",
    "# Train the polynomial regression model\n",
    "pipeline.fit(X_train, y_train)\n",
    "\n",
    "# Predict on the test set\n",
    "y_pred_poly = pipeline.predict(X_test)\n",
    "\n",
    "# Calculate performance metrics for Polynomial Regression\n",
    "mse_poly = mean_squared_error(y_test, y_pred_poly)\n",
    "mae_poly = mean_absolute_error(y_test, y_pred_poly)\n",
    "r2_poly = r2_score(y_test, y_pred_poly)\n",
    "\n",
    "# Display performance metrics\n",
    "print(f\"Polynomial Degree: {degree}\")\n",
    "print(f\"Mean Squared Error (MSE): {mse_poly}\")\n",
    "print(f\"Mean Absolute Error (MAE): {mae_poly}\")\n",
    "print(f\"R-squared (R²) Score: {r2_poly}\")\n",
    "\n",
    "# Compare actual and predicted productivity values\n",
    "comparison_poly = pd.DataFrame({\n",
    "    'Actual Productivity': y_test,\n",
    "    'Predicted Productivity': y_pred_poly\n",
    "})\n",
    "\n",
    "comparison_poly.head(10)\n"
   ]
  },
  {
   "cell_type": "code",
   "execution_count": 52,
   "metadata": {},
   "outputs": [
    {
     "data": {
      "text/html": [
       "<div>\n",
       "<style scoped>\n",
       "    .dataframe tbody tr th:only-of-type {\n",
       "        vertical-align: middle;\n",
       "    }\n",
       "\n",
       "    .dataframe tbody tr th {\n",
       "        vertical-align: top;\n",
       "    }\n",
       "\n",
       "    .dataframe thead th {\n",
       "        text-align: right;\n",
       "    }\n",
       "</style>\n",
       "<table border=\"1\" class=\"dataframe\">\n",
       "  <thead>\n",
       "    <tr style=\"text-align: right;\">\n",
       "      <th></th>\n",
       "      <th>Degree</th>\n",
       "      <th>MSE</th>\n",
       "      <th>R²</th>\n",
       "    </tr>\n",
       "  </thead>\n",
       "  <tbody>\n",
       "    <tr>\n",
       "      <th>0</th>\n",
       "      <td>1</td>\n",
       "      <td>0.021921</td>\n",
       "      <td>0.174415</td>\n",
       "    </tr>\n",
       "    <tr>\n",
       "      <th>1</th>\n",
       "      <td>2</td>\n",
       "      <td>0.018001</td>\n",
       "      <td>0.322068</td>\n",
       "    </tr>\n",
       "    <tr>\n",
       "      <th>2</th>\n",
       "      <td>3</td>\n",
       "      <td>0.019025</td>\n",
       "      <td>0.283483</td>\n",
       "    </tr>\n",
       "    <tr>\n",
       "      <th>3</th>\n",
       "      <td>4</td>\n",
       "      <td>0.138944</td>\n",
       "      <td>-4.232798</td>\n",
       "    </tr>\n",
       "    <tr>\n",
       "      <th>4</th>\n",
       "      <td>5</td>\n",
       "      <td>0.084094</td>\n",
       "      <td>-2.167100</td>\n",
       "    </tr>\n",
       "  </tbody>\n",
       "</table>\n",
       "</div>"
      ],
      "text/plain": [
       "   Degree       MSE        R²\n",
       "0       1  0.021921  0.174415\n",
       "1       2  0.018001  0.322068\n",
       "2       3  0.019025  0.283483\n",
       "3       4  0.138944 -4.232798\n",
       "4       5  0.084094 -2.167100"
      ]
     },
     "execution_count": 52,
     "metadata": {},
     "output_type": "execute_result"
    }
   ],
   "source": [
    "# Evaluate different polynomial degrees\n",
    "results = []\n",
    "degrees_to_test = [1, 2, 3, 4, 5]\n",
    "for degree in degrees_to_test:\n",
    "    # Create a pipeline for polynomial features and linear regression\n",
    "    pipeline = make_pipeline(PolynomialFeatures(degree), LinearRegression())\n",
    "\n",
    "    # Train the model\n",
    "    pipeline.fit(X_train, y_train)\n",
    "\n",
    "    # Predict on the test set\n",
    "    y_pred = pipeline.predict(X_test)\n",
    "\n",
    "    # Evaluate model performance\n",
    "    mse = mean_squared_error(y_test, y_pred)\n",
    "    r2 = r2_score(y_test, y_pred)\n",
    "\n",
    "    # Store the results\n",
    "    results.append({'Degree': degree, 'MSE': mse, 'R²': r2})\n",
    "\n",
    "results_df = pd.DataFrame(results)\n",
    "results_df"
   ]
  }
 ],
 "metadata": {
  "kernelspec": {
   "display_name": "Python 3",
   "language": "python",
   "name": "python3"
  },
  "language_info": {
   "codemirror_mode": {
    "name": "ipython",
    "version": 3
   },
   "file_extension": ".py",
   "mimetype": "text/x-python",
   "name": "python",
   "nbconvert_exporter": "python",
   "pygments_lexer": "ipython3",
   "version": "3.10.5"
  }
 },
 "nbformat": 4,
 "nbformat_minor": 2
}
